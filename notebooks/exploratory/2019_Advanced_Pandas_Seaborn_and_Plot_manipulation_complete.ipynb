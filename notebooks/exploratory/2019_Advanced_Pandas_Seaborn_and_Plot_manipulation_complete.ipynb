{
 "cells": [
  {
   "cell_type": "markdown",
   "metadata": {},
   "source": [
    "# Lecture 04 (Sept 12th 2019)\n",
    "\n",
    "## Note:\n",
    "\n",
    "Students with Windows computers who have been having issues should update their conda as the previous version had some issues\n",
    "\n",
    "Open a **Anaconda Powershell Prompt**\n",
    "\n",
    "Run: `conda update -n base conda`\n",
    "\n",
    "### The packages needed for todays lecture:\n",
    "\n",
    "+ jupyter\n",
    "+ matplotlib\n",
    "+ numpy\n",
    "+ pandas\n",
    "+ seaborn\n",
    "\n",
    "## Advanced Pandas"
   ]
  },
  {
   "cell_type": "markdown",
   "metadata": {},
   "source": [
    "### The Journey so Far\n",
    "\n",
    "In the previous lecture we learned how to load data into a dataframe and then extract specific subsets of data from the dataframe. We also created some plots using matplotlib.\n",
    "\n",
    "Today we will look at more advanced functionality:\n",
    "  + Creating new rows/columns\n",
    "    + Using new data\n",
    "    + Using data in existing columns\n",
    "  + Grouping data\n",
    "  + Aggregating data\n",
    "  + Applying functions accross rows/columns\n",
    "  + Restructuring the table\n",
    "    + Converting a wide format table into a long format\n",
    "    + Converting a long format table into a wide format\n",
    "  + Different types of plots in Seaborn\n",
    "  + Adjusting Color Pallets\n",
    "  + Adjusting figure size\n",
    "    + Using `plt.figure()` for each plot\n",
    "    + Using seaborn rc\n",
    "  + Changing plot aesthetics\n",
    "    \n",
    "Lets start by importing pandas\n",
    "\n",
    "```python\n",
    "import pandas as pd\n",
    "```"
   ]
  },
  {
   "cell_type": "code",
   "execution_count": 1,
   "metadata": {},
   "outputs": [],
   "source": [
    "import pandas as pd"
   ]
  },
  {
   "cell_type": "markdown",
   "metadata": {},
   "source": [
    "### Adding New Data\n",
    "\n",
    "\n",
    "```python\n",
    "df = pd.DataFrame({'a': [0,0,0,0], 'b': [1, 1, 1 ,1]})\n",
    "df\n",
    "```\n",
    "\n",
    "##### Adding rows:\n",
    "+ Using append\\(\\)\n",
    "    + The rows must be represented as a dictionary\n",
    "      + key = column\n",
    "      + value is the value\n",
    "    + The ignore index flag must be set\n",
    "    + This operation does not alter the original dataframe\n",
    "\n",
    "```python\n",
    "df = pd.DataFrame({'a': [0,0,0,0], 'b': [1, 1, 1 ,1]})\n",
    "df = df.append({'a': 1, 'b':2}, ignore_index=True)\n",
    "df\n",
    "```\n",
    "\n",
    "+ Using loc\n",
    "    + We can add a new row using `df.loc[\"row_name\"]` or `df.loc[index]`\n",
    "    \n",
    "```python\n",
    "# this will add a row containing zeros\n",
    "df.loc[len(df)] = 0\n",
    "# this will add a row with a=5 and b=6\n",
    "df.loc[len(df)] = [5, 6]\n",
    "# The number of elements in the array need to match the number of columns\n",
    "# df.loc[len(df)] = [1, 2, 3]\n",
    "```\n",
    "  "
   ]
  },
  {
   "cell_type": "code",
   "execution_count": 8,
   "metadata": {},
   "outputs": [
    {
     "data": {
      "text/html": [
       "<div>\n",
       "<style scoped>\n",
       "    .dataframe tbody tr th:only-of-type {\n",
       "        vertical-align: middle;\n",
       "    }\n",
       "\n",
       "    .dataframe tbody tr th {\n",
       "        vertical-align: top;\n",
       "    }\n",
       "\n",
       "    .dataframe thead th {\n",
       "        text-align: right;\n",
       "    }\n",
       "</style>\n",
       "<table border=\"1\" class=\"dataframe\">\n",
       "  <thead>\n",
       "    <tr style=\"text-align: right;\">\n",
       "      <th></th>\n",
       "      <th>a</th>\n",
       "      <th>b</th>\n",
       "    </tr>\n",
       "  </thead>\n",
       "  <tbody>\n",
       "    <tr>\n",
       "      <td>0</td>\n",
       "      <td>0</td>\n",
       "      <td>1</td>\n",
       "    </tr>\n",
       "    <tr>\n",
       "      <td>1</td>\n",
       "      <td>0</td>\n",
       "      <td>1</td>\n",
       "    </tr>\n",
       "    <tr>\n",
       "      <td>2</td>\n",
       "      <td>0</td>\n",
       "      <td>1</td>\n",
       "    </tr>\n",
       "    <tr>\n",
       "      <td>3</td>\n",
       "      <td>0</td>\n",
       "      <td>1</td>\n",
       "    </tr>\n",
       "    <tr>\n",
       "      <td>4</td>\n",
       "      <td>1</td>\n",
       "      <td>2</td>\n",
       "    </tr>\n",
       "    <tr>\n",
       "      <td>5</td>\n",
       "      <td>0</td>\n",
       "      <td>0</td>\n",
       "    </tr>\n",
       "    <tr>\n",
       "      <td>6</td>\n",
       "      <td>5</td>\n",
       "      <td>6</td>\n",
       "    </tr>\n",
       "  </tbody>\n",
       "</table>\n",
       "</div>"
      ],
      "text/plain": [
       "   a  b\n",
       "0  0  1\n",
       "1  0  1\n",
       "2  0  1\n",
       "3  0  1\n",
       "4  1  2\n",
       "5  0  0\n",
       "6  5  6"
      ]
     },
     "execution_count": 8,
     "metadata": {},
     "output_type": "execute_result"
    }
   ],
   "source": [
    "df = pd.DataFrame({'a': [0,0,0,0], 'b': [1, 1, 1 ,1]})\n",
    "df = df.append({'a': 1, 'b':2}, ignore_index=True)\n",
    "df.loc[len(df)] = 0\n",
    "df.loc[len(df)] = [5, 6]\n",
    "df"
   ]
  },
  {
   "cell_type": "markdown",
   "metadata": {},
   "source": [
    "##### Adding columns:\n",
    "+ Using indexing[]\n",
    "    + Updates the existing DataFrame\n",
    "    + Either it must be assigned to a list with the same number of elements as there are rows\n",
    "    + Or a constant can be assigned\n",
    "\n",
    "```python\n",
    "df = pd.DataFrame({'a': [0,0,0,0], 'b': [1, 1, 1 ,1]})\n",
    "df[\"c\"] = [1,2,3,4]\n",
    "df[\"d\"] = 5\n",
    "df\n",
    "```"
   ]
  },
  {
   "cell_type": "code",
   "execution_count": 9,
   "metadata": {},
   "outputs": [
    {
     "data": {
      "text/html": [
       "<div>\n",
       "<style scoped>\n",
       "    .dataframe tbody tr th:only-of-type {\n",
       "        vertical-align: middle;\n",
       "    }\n",
       "\n",
       "    .dataframe tbody tr th {\n",
       "        vertical-align: top;\n",
       "    }\n",
       "\n",
       "    .dataframe thead th {\n",
       "        text-align: right;\n",
       "    }\n",
       "</style>\n",
       "<table border=\"1\" class=\"dataframe\">\n",
       "  <thead>\n",
       "    <tr style=\"text-align: right;\">\n",
       "      <th></th>\n",
       "      <th>a</th>\n",
       "      <th>b</th>\n",
       "      <th>c</th>\n",
       "      <th>d</th>\n",
       "    </tr>\n",
       "  </thead>\n",
       "  <tbody>\n",
       "    <tr>\n",
       "      <td>0</td>\n",
       "      <td>0</td>\n",
       "      <td>1</td>\n",
       "      <td>1</td>\n",
       "      <td>5</td>\n",
       "    </tr>\n",
       "    <tr>\n",
       "      <td>1</td>\n",
       "      <td>0</td>\n",
       "      <td>1</td>\n",
       "      <td>2</td>\n",
       "      <td>5</td>\n",
       "    </tr>\n",
       "    <tr>\n",
       "      <td>2</td>\n",
       "      <td>0</td>\n",
       "      <td>1</td>\n",
       "      <td>3</td>\n",
       "      <td>5</td>\n",
       "    </tr>\n",
       "    <tr>\n",
       "      <td>3</td>\n",
       "      <td>0</td>\n",
       "      <td>1</td>\n",
       "      <td>4</td>\n",
       "      <td>5</td>\n",
       "    </tr>\n",
       "  </tbody>\n",
       "</table>\n",
       "</div>"
      ],
      "text/plain": [
       "   a  b  c  d\n",
       "0  0  1  1  5\n",
       "1  0  1  2  5\n",
       "2  0  1  3  5\n",
       "3  0  1  4  5"
      ]
     },
     "execution_count": 9,
     "metadata": {},
     "output_type": "execute_result"
    }
   ],
   "source": [
    "df = pd.DataFrame({'a': [0,0,0,0], 'b': [1, 1, 1 ,1]})\n",
    "df[\"c\"] = [1,2,3,4]\n",
    "df[\"d\"] = 5\n",
    "df"
   ]
  },
  {
   "cell_type": "markdown",
   "metadata": {},
   "source": [
    "+ Using assign()\n",
    "    + Creates a new DataFrame\n",
    "    + A column can be assigned:\n",
    "      + A constant\n",
    "      + A value for each row\n",
    "      + A function that calculates the rows value using another row\n",
    "    \n",
    "```python\n",
    "df = pd.DataFrame({'a': [0,0,0,0], 'b': [1, 1, 1 ,1]})\n",
    "df = df.assign(c=5)\n",
    "df = df.assign(d=[1,2,3,4])\n",
    "df = df.assign(e=lambda x: x['d']**2)\n",
    "df\n",
    "```"
   ]
  },
  {
   "cell_type": "code",
   "execution_count": 11,
   "metadata": {},
   "outputs": [
    {
     "data": {
      "text/html": [
       "<div>\n",
       "<style scoped>\n",
       "    .dataframe tbody tr th:only-of-type {\n",
       "        vertical-align: middle;\n",
       "    }\n",
       "\n",
       "    .dataframe tbody tr th {\n",
       "        vertical-align: top;\n",
       "    }\n",
       "\n",
       "    .dataframe thead th {\n",
       "        text-align: right;\n",
       "    }\n",
       "</style>\n",
       "<table border=\"1\" class=\"dataframe\">\n",
       "  <thead>\n",
       "    <tr style=\"text-align: right;\">\n",
       "      <th></th>\n",
       "      <th>a</th>\n",
       "      <th>b</th>\n",
       "      <th>c</th>\n",
       "      <th>d</th>\n",
       "      <th>e</th>\n",
       "    </tr>\n",
       "  </thead>\n",
       "  <tbody>\n",
       "    <tr>\n",
       "      <td>0</td>\n",
       "      <td>0</td>\n",
       "      <td>1</td>\n",
       "      <td>5</td>\n",
       "      <td>1</td>\n",
       "      <td>1</td>\n",
       "    </tr>\n",
       "    <tr>\n",
       "      <td>1</td>\n",
       "      <td>0</td>\n",
       "      <td>1</td>\n",
       "      <td>5</td>\n",
       "      <td>2</td>\n",
       "      <td>4</td>\n",
       "    </tr>\n",
       "    <tr>\n",
       "      <td>2</td>\n",
       "      <td>0</td>\n",
       "      <td>1</td>\n",
       "      <td>5</td>\n",
       "      <td>3</td>\n",
       "      <td>9</td>\n",
       "    </tr>\n",
       "    <tr>\n",
       "      <td>3</td>\n",
       "      <td>0</td>\n",
       "      <td>1</td>\n",
       "      <td>5</td>\n",
       "      <td>4</td>\n",
       "      <td>16</td>\n",
       "    </tr>\n",
       "  </tbody>\n",
       "</table>\n",
       "</div>"
      ],
      "text/plain": [
       "   a  b  c  d   e\n",
       "0  0  1  5  1   1\n",
       "1  0  1  5  2   4\n",
       "2  0  1  5  3   9\n",
       "3  0  1  5  4  16"
      ]
     },
     "execution_count": 11,
     "metadata": {},
     "output_type": "execute_result"
    }
   ],
   "source": [
    "def square(x):\n",
    "    return x['d']**2\n",
    "\n",
    "df = pd.DataFrame({'a': [0,0,0,0], 'b': [1, 1, 1 ,1]})\n",
    "df = df.assign(c=5)\n",
    "df = df.assign(d=[1,2,3,4])\n",
    "df = df.assign(e=square)\n",
    "df"
   ]
  },
  {
   "cell_type": "markdown",
   "metadata": {},
   "source": [
    "+ Using insert()\n",
    "    + Is an in place operation\n",
    "    + Requires three positional arguments:\n",
    "      + loc: the index of where to insert the column (0 <= index <= len(df.columns))\n",
    "      + column: the column name\n",
    "      + value: the values to insert. A constant or a list with len(df)\n",
    "\n",
    "```python    \n",
    "df = pd.DataFrame({'a': [0,0,0,0], 'b': [1, 1, 1 ,1]})\n",
    "df.insert(loc=len(df.columns), column='c', value=5)\n",
    "df.insert(loc=len(df.columns), column='d', value=[1, 2, 3, 4])\n",
    "df\n",
    "```"
   ]
  },
  {
   "cell_type": "code",
   "execution_count": 16,
   "metadata": {},
   "outputs": [
    {
     "data": {
      "text/html": [
       "<div>\n",
       "<style scoped>\n",
       "    .dataframe tbody tr th:only-of-type {\n",
       "        vertical-align: middle;\n",
       "    }\n",
       "\n",
       "    .dataframe tbody tr th {\n",
       "        vertical-align: top;\n",
       "    }\n",
       "\n",
       "    .dataframe thead th {\n",
       "        text-align: right;\n",
       "    }\n",
       "</style>\n",
       "<table border=\"1\" class=\"dataframe\">\n",
       "  <thead>\n",
       "    <tr style=\"text-align: right;\">\n",
       "      <th></th>\n",
       "      <th>a</th>\n",
       "      <th>b</th>\n",
       "      <th>c</th>\n",
       "      <th>d</th>\n",
       "    </tr>\n",
       "  </thead>\n",
       "  <tbody>\n",
       "    <tr>\n",
       "      <td>0</td>\n",
       "      <td>0</td>\n",
       "      <td>1</td>\n",
       "      <td>5</td>\n",
       "      <td>1</td>\n",
       "    </tr>\n",
       "    <tr>\n",
       "      <td>1</td>\n",
       "      <td>0</td>\n",
       "      <td>1</td>\n",
       "      <td>5</td>\n",
       "      <td>2</td>\n",
       "    </tr>\n",
       "    <tr>\n",
       "      <td>2</td>\n",
       "      <td>0</td>\n",
       "      <td>1</td>\n",
       "      <td>5</td>\n",
       "      <td>3</td>\n",
       "    </tr>\n",
       "    <tr>\n",
       "      <td>3</td>\n",
       "      <td>0</td>\n",
       "      <td>1</td>\n",
       "      <td>5</td>\n",
       "      <td>4</td>\n",
       "    </tr>\n",
       "  </tbody>\n",
       "</table>\n",
       "</div>"
      ],
      "text/plain": [
       "   a  b  c  d\n",
       "0  0  1  5  1\n",
       "1  0  1  5  2\n",
       "2  0  1  5  3\n",
       "3  0  1  5  4"
      ]
     },
     "execution_count": 16,
     "metadata": {},
     "output_type": "execute_result"
    }
   ],
   "source": [
    "df = pd.DataFrame({'a': [0,0,0,0], 'b': [1, 1, 1 ,1]})\n",
    "df.insert(loc=len(df.columns), column='c', value=5)\n",
    "df.insert(loc=len(df.columns), column='d', value=[1, 2, 3, 4])\n",
    "df"
   ]
  },
  {
   "cell_type": "markdown",
   "metadata": {},
   "source": [
    "#### Adding rows / columns using existing data\n",
    "\n",
    "We saw an example of this when adding a column using append.\n",
    "\n",
    "There are many methods of achieving the same result.\n",
    "\n",
    "##### The `agg()` function\n",
    "\n",
    "The `agg()` function will aggregate either rows or columns of the DataFrame.\n",
    "\n",
    "The agg function returns a new DataFrame, so the results need to be saved either into a new dataframe, or into an existing dataframe.\n",
    "\n",
    "+ Adding new columns\n",
    "  + columns are added by using `axis=1`\n",
    "  + You can use a single function to add a single column\n",
    "  + You can also use a list of functions to add multiple columns\n",
    "  + There are built in functions that can be called by passing a string\n",
    "    + sum\n",
    "    + mean\n",
    "    + median\n",
    "    + std\n",
    "    + max\n",
    "    + min\n",
    "    + There may be more, I could not find a definitive list\n",
    "  \n",
    "```python\n",
    "import numpy as np\n",
    "\n",
    "df = pd.DataFrame({'a': [1,1,1,1], 'b': [1, 2, 3 ,4]})\n",
    "df[\"sum\"] = df.agg(sum, axis=0)\n",
    "df[['std', 'sum', 'mean', 'max', 'min']] = df.agg([np.std, 'sum', 'mean', 'max', 'min'], axis=1)\n",
    "df\n",
    "```"
   ]
  },
  {
   "cell_type": "code",
   "execution_count": 24,
   "metadata": {},
   "outputs": [
    {
     "data": {
      "text/html": [
       "<div>\n",
       "<style scoped>\n",
       "    .dataframe tbody tr th:only-of-type {\n",
       "        vertical-align: middle;\n",
       "    }\n",
       "\n",
       "    .dataframe tbody tr th {\n",
       "        vertical-align: top;\n",
       "    }\n",
       "\n",
       "    .dataframe thead th {\n",
       "        text-align: right;\n",
       "    }\n",
       "</style>\n",
       "<table border=\"1\" class=\"dataframe\">\n",
       "  <thead>\n",
       "    <tr style=\"text-align: right;\">\n",
       "      <th></th>\n",
       "      <th>a</th>\n",
       "      <th>b</th>\n",
       "      <th>std</th>\n",
       "      <th>sum</th>\n",
       "      <th>mean</th>\n",
       "      <th>max</th>\n",
       "      <th>min</th>\n",
       "    </tr>\n",
       "  </thead>\n",
       "  <tbody>\n",
       "    <tr>\n",
       "      <td>0</td>\n",
       "      <td>1</td>\n",
       "      <td>1</td>\n",
       "      <td>0.000000</td>\n",
       "      <td>2.0</td>\n",
       "      <td>1.0</td>\n",
       "      <td>1.0</td>\n",
       "      <td>1.0</td>\n",
       "    </tr>\n",
       "    <tr>\n",
       "      <td>1</td>\n",
       "      <td>1</td>\n",
       "      <td>2</td>\n",
       "      <td>0.707107</td>\n",
       "      <td>3.0</td>\n",
       "      <td>1.5</td>\n",
       "      <td>2.0</td>\n",
       "      <td>1.0</td>\n",
       "    </tr>\n",
       "    <tr>\n",
       "      <td>2</td>\n",
       "      <td>1</td>\n",
       "      <td>3</td>\n",
       "      <td>1.414214</td>\n",
       "      <td>4.0</td>\n",
       "      <td>2.0</td>\n",
       "      <td>3.0</td>\n",
       "      <td>1.0</td>\n",
       "    </tr>\n",
       "    <tr>\n",
       "      <td>3</td>\n",
       "      <td>1</td>\n",
       "      <td>4</td>\n",
       "      <td>2.121320</td>\n",
       "      <td>5.0</td>\n",
       "      <td>2.5</td>\n",
       "      <td>4.0</td>\n",
       "      <td>1.0</td>\n",
       "    </tr>\n",
       "  </tbody>\n",
       "</table>\n",
       "</div>"
      ],
      "text/plain": [
       "   a  b       std  sum  mean  max  min\n",
       "0  1  1  0.000000  2.0   1.0  1.0  1.0\n",
       "1  1  2  0.707107  3.0   1.5  2.0  1.0\n",
       "2  1  3  1.414214  4.0   2.0  3.0  1.0\n",
       "3  1  4  2.121320  5.0   2.5  4.0  1.0"
      ]
     },
     "execution_count": 24,
     "metadata": {},
     "output_type": "execute_result"
    }
   ],
   "source": [
    "import numpy as np\n",
    "\n",
    "df = pd.DataFrame({'a': [1,1,1,1], 'b': [1, 2, 3 ,4]})\n",
    "df[\n",
    "    [\n",
    "        'std', \n",
    "        'sum', \n",
    "        'mean', \n",
    "        'max', \n",
    "        'min'\n",
    "    ]\n",
    "] = df.agg([np.std, 'sum', 'mean', 'max', 'min'], axis=1)\n",
    "\n",
    "df"
   ]
  },
  {
   "cell_type": "markdown",
   "metadata": {},
   "source": [
    "+ Adding new rows\n",
    "  + rows are added by using the `axis=0` argument. If no axis is defined, this is the default\n",
    "  + Asside from the axis everything works exactly the same\n",
    "  + Use `.append()` or `.loc` to add a single row\n",
    "  + Use `.append()` for adding multiple rows\n",
    "  \n",
    "```python\n",
    "df = pd.DataFrame({'a': [1,1,1,1], 'b': [1, 2, 3 ,4]})\n",
    "df.loc['total'] = df.agg(sum, axis=0)\n",
    "df = df.append(df.agg(['min', 'max', 'mean']))\n",
    "df\n",
    "```"
   ]
  },
  {
   "cell_type": "code",
   "execution_count": 27,
   "metadata": {},
   "outputs": [
    {
     "data": {
      "text/html": [
       "<div>\n",
       "<style scoped>\n",
       "    .dataframe tbody tr th:only-of-type {\n",
       "        vertical-align: middle;\n",
       "    }\n",
       "\n",
       "    .dataframe tbody tr th {\n",
       "        vertical-align: top;\n",
       "    }\n",
       "\n",
       "    .dataframe thead th {\n",
       "        text-align: right;\n",
       "    }\n",
       "</style>\n",
       "<table border=\"1\" class=\"dataframe\">\n",
       "  <thead>\n",
       "    <tr style=\"text-align: right;\">\n",
       "      <th></th>\n",
       "      <th>a</th>\n",
       "      <th>b</th>\n",
       "    </tr>\n",
       "  </thead>\n",
       "  <tbody>\n",
       "    <tr>\n",
       "      <td>0</td>\n",
       "      <td>1.0</td>\n",
       "      <td>1.0</td>\n",
       "    </tr>\n",
       "    <tr>\n",
       "      <td>1</td>\n",
       "      <td>1.0</td>\n",
       "      <td>2.0</td>\n",
       "    </tr>\n",
       "    <tr>\n",
       "      <td>2</td>\n",
       "      <td>1.0</td>\n",
       "      <td>3.0</td>\n",
       "    </tr>\n",
       "    <tr>\n",
       "      <td>3</td>\n",
       "      <td>1.0</td>\n",
       "      <td>4.0</td>\n",
       "    </tr>\n",
       "    <tr>\n",
       "      <td>total</td>\n",
       "      <td>4.0</td>\n",
       "      <td>10.0</td>\n",
       "    </tr>\n",
       "    <tr>\n",
       "      <td>min</td>\n",
       "      <td>1.0</td>\n",
       "      <td>1.0</td>\n",
       "    </tr>\n",
       "    <tr>\n",
       "      <td>max</td>\n",
       "      <td>4.0</td>\n",
       "      <td>10.0</td>\n",
       "    </tr>\n",
       "    <tr>\n",
       "      <td>mean</td>\n",
       "      <td>1.6</td>\n",
       "      <td>4.0</td>\n",
       "    </tr>\n",
       "  </tbody>\n",
       "</table>\n",
       "</div>"
      ],
      "text/plain": [
       "         a     b\n",
       "0      1.0   1.0\n",
       "1      1.0   2.0\n",
       "2      1.0   3.0\n",
       "3      1.0   4.0\n",
       "total  4.0  10.0\n",
       "min    1.0   1.0\n",
       "max    4.0  10.0\n",
       "mean   1.6   4.0"
      ]
     },
     "execution_count": 27,
     "metadata": {},
     "output_type": "execute_result"
    }
   ],
   "source": [
    "df = pd.DataFrame({'a': [1,1,1,1], 'b': [1, 2, 3 ,4]})\n",
    "df.loc['total'] = df.agg(sum, axis=0)\n",
    "df = df.append(df.agg(['min', 'max', 'mean']))\n",
    "df"
   ]
  },
  {
   "cell_type": "markdown",
   "metadata": {},
   "source": [
    "##### Using `apply()`\n",
    "\n",
    "Apply and agg are similar, apply can be applied to single values, while agg always acts on a whole row or column\n",
    "\n",
    "\n",
    "```python\n",
    "df = pd.DataFrame({'a': [1,1,1,1], 'b': [1, 2, 3 ,4]})\n",
    "df.apply(np.sqrt)\n",
    "```"
   ]
  },
  {
   "cell_type": "code",
   "execution_count": 30,
   "metadata": {},
   "outputs": [
    {
     "data": {
      "text/html": [
       "<div>\n",
       "<style scoped>\n",
       "    .dataframe tbody tr th:only-of-type {\n",
       "        vertical-align: middle;\n",
       "    }\n",
       "\n",
       "    .dataframe tbody tr th {\n",
       "        vertical-align: top;\n",
       "    }\n",
       "\n",
       "    .dataframe thead th {\n",
       "        text-align: right;\n",
       "    }\n",
       "</style>\n",
       "<table border=\"1\" class=\"dataframe\">\n",
       "  <thead>\n",
       "    <tr style=\"text-align: right;\">\n",
       "      <th></th>\n",
       "      <th>a</th>\n",
       "      <th>b</th>\n",
       "    </tr>\n",
       "  </thead>\n",
       "  <tbody>\n",
       "    <tr>\n",
       "      <td>0</td>\n",
       "      <td>NaN</td>\n",
       "      <td>1.000000</td>\n",
       "    </tr>\n",
       "    <tr>\n",
       "      <td>1</td>\n",
       "      <td>1.0</td>\n",
       "      <td>1.414214</td>\n",
       "    </tr>\n",
       "    <tr>\n",
       "      <td>2</td>\n",
       "      <td>1.0</td>\n",
       "      <td>1.732051</td>\n",
       "    </tr>\n",
       "    <tr>\n",
       "      <td>3</td>\n",
       "      <td>1.0</td>\n",
       "      <td>2.000000</td>\n",
       "    </tr>\n",
       "  </tbody>\n",
       "</table>\n",
       "</div>"
      ],
      "text/plain": [
       "     a         b\n",
       "0  NaN  1.000000\n",
       "1  1.0  1.414214\n",
       "2  1.0  1.732051\n",
       "3  1.0  2.000000"
      ]
     },
     "execution_count": 30,
     "metadata": {},
     "output_type": "execute_result"
    }
   ],
   "source": [
    "df = pd.DataFrame({'a': [np.nan,1,1,1], 'b': [1, 2, 3 ,4]})\n",
    "# df.apply(np.sqrt)"
   ]
  },
  {
   "cell_type": "code",
   "execution_count": 32,
   "metadata": {},
   "outputs": [
    {
     "data": {
      "text/plain": [
       "a    1\n",
       "b    0\n",
       "dtype: int64"
      ]
     },
     "execution_count": 32,
     "metadata": {},
     "output_type": "execute_result"
    }
   ],
   "source": [
    "df.isna().sum()"
   ]
  },
  {
   "cell_type": "markdown",
   "metadata": {},
   "source": [
    "##### Normalizing a column\n",
    "\n",
    "There are many methods that can be applied to normalize a column.\n",
    "\n",
    "This example uses min-max normalization which will normalize the values to lie between 0 and 1\n",
    "\n",
    "```python\n",
    "df = pd.DataFrame({'a': [1,1,1,1], 'b': [1, 2, 3 ,4]})\n",
    "df['b'] = (df['b'] - df['b'].min()) / (df['b'].max() - df['b'].min())\n",
    "df\n",
    "```"
   ]
  },
  {
   "cell_type": "code",
   "execution_count": 33,
   "metadata": {},
   "outputs": [
    {
     "data": {
      "text/html": [
       "<div>\n",
       "<style scoped>\n",
       "    .dataframe tbody tr th:only-of-type {\n",
       "        vertical-align: middle;\n",
       "    }\n",
       "\n",
       "    .dataframe tbody tr th {\n",
       "        vertical-align: top;\n",
       "    }\n",
       "\n",
       "    .dataframe thead th {\n",
       "        text-align: right;\n",
       "    }\n",
       "</style>\n",
       "<table border=\"1\" class=\"dataframe\">\n",
       "  <thead>\n",
       "    <tr style=\"text-align: right;\">\n",
       "      <th></th>\n",
       "      <th>a</th>\n",
       "      <th>b</th>\n",
       "    </tr>\n",
       "  </thead>\n",
       "  <tbody>\n",
       "    <tr>\n",
       "      <td>0</td>\n",
       "      <td>1</td>\n",
       "      <td>0.000000</td>\n",
       "    </tr>\n",
       "    <tr>\n",
       "      <td>1</td>\n",
       "      <td>1</td>\n",
       "      <td>0.333333</td>\n",
       "    </tr>\n",
       "    <tr>\n",
       "      <td>2</td>\n",
       "      <td>1</td>\n",
       "      <td>0.666667</td>\n",
       "    </tr>\n",
       "    <tr>\n",
       "      <td>3</td>\n",
       "      <td>1</td>\n",
       "      <td>1.000000</td>\n",
       "    </tr>\n",
       "  </tbody>\n",
       "</table>\n",
       "</div>"
      ],
      "text/plain": [
       "   a         b\n",
       "0  1  0.000000\n",
       "1  1  0.333333\n",
       "2  1  0.666667\n",
       "3  1  1.000000"
      ]
     },
     "execution_count": 33,
     "metadata": {},
     "output_type": "execute_result"
    }
   ],
   "source": [
    "df = pd.DataFrame({'a': [1,1,1,1], 'b': [1, 2, 3 ,4]})\n",
    "df['b'] = (df['b'] - df['b'].min()) / (df['b'].max() - df['b'].min())\n",
    "df"
   ]
  },
  {
   "cell_type": "markdown",
   "metadata": {},
   "source": [
    "#### Modifying Rows / Columns\n",
    "\n",
    "Rows and columns can be modified by overwriting their values using [] indexing or .loc indexing\n",
    "\n",
    "```python\n",
    "df = pd.DataFrame({'a': [1,1,1,1], 'b': [1, 2, 3 ,4]})\n",
    "df['a'] = df['a'] + 5\n",
    "df.loc[df['b'] % 2 == 0] = df.loc[df['b'] % 2 == 0] + 1\n",
    "df\n",
    "```"
   ]
  },
  {
   "cell_type": "code",
   "execution_count": 44,
   "metadata": {},
   "outputs": [
    {
     "data": {
      "text/html": [
       "<div>\n",
       "<style scoped>\n",
       "    .dataframe tbody tr th:only-of-type {\n",
       "        vertical-align: middle;\n",
       "    }\n",
       "\n",
       "    .dataframe tbody tr th {\n",
       "        vertical-align: top;\n",
       "    }\n",
       "\n",
       "    .dataframe thead th {\n",
       "        text-align: right;\n",
       "    }\n",
       "</style>\n",
       "<table border=\"1\" class=\"dataframe\">\n",
       "  <thead>\n",
       "    <tr style=\"text-align: right;\">\n",
       "      <th></th>\n",
       "      <th>a</th>\n",
       "      <th>b</th>\n",
       "    </tr>\n",
       "  </thead>\n",
       "  <tbody>\n",
       "    <tr>\n",
       "      <td>0</td>\n",
       "      <td>1</td>\n",
       "      <td>1</td>\n",
       "    </tr>\n",
       "    <tr>\n",
       "      <td>1</td>\n",
       "      <td>1</td>\n",
       "      <td>3</td>\n",
       "    </tr>\n",
       "    <tr>\n",
       "      <td>2</td>\n",
       "      <td>1</td>\n",
       "      <td>3</td>\n",
       "    </tr>\n",
       "    <tr>\n",
       "      <td>3</td>\n",
       "      <td>1</td>\n",
       "      <td>5</td>\n",
       "    </tr>\n",
       "  </tbody>\n",
       "</table>\n",
       "</div>"
      ],
      "text/plain": [
       "   a  b\n",
       "0  1  1\n",
       "1  1  3\n",
       "2  1  3\n",
       "3  1  5"
      ]
     },
     "execution_count": 44,
     "metadata": {},
     "output_type": "execute_result"
    }
   ],
   "source": [
    "df = pd.DataFrame({'a': [1,1,1,1], 'b': [1, 2, 3 ,4]})\n",
    "df.loc[df['b'] % 2 == 0, 'b'] = df.loc[df['b'] % 2 == 0, 'b'] + 1\n",
    "df"
   ]
  },
  {
   "cell_type": "code",
   "execution_count": 45,
   "metadata": {},
   "outputs": [
    {
     "data": {
      "text/plain": [
       "0    False\n",
       "1    False\n",
       "2    False\n",
       "3    False\n",
       "Name: b, dtype: bool"
      ]
     },
     "execution_count": 45,
     "metadata": {},
     "output_type": "execute_result"
    }
   ],
   "source": [
    "df['b'] % 2 == 0"
   ]
  },
  {
   "cell_type": "code",
   "execution_count": null,
   "metadata": {},
   "outputs": [],
   "source": [
    "df.loc[[True, False], 'a':'b']"
   ]
  },
  {
   "cell_type": "markdown",
   "metadata": {},
   "source": [
    "### Grouping Data\n",
    "\n",
    "Seaborn comes with some built in dataframes.\n",
    "The flights dataset is a nice example for grouping as it is easy to understand and manipulate.\n",
    "This dataset gives the number of passengers who flew between 1949 and 1960. When loading the dataset no information is given regarding the order of the number of passengers, but this is not important for our purposes.\n",
    "\n",
    "```python\n",
    "import seaborn as sns\n",
    "df = sns.load_dataset('flights')\n",
    "df.tail()\n",
    "```\n"
   ]
  },
  {
   "cell_type": "code",
   "execution_count": 48,
   "metadata": {},
   "outputs": [
    {
     "data": {
      "text/html": [
       "<div>\n",
       "<style scoped>\n",
       "    .dataframe tbody tr th:only-of-type {\n",
       "        vertical-align: middle;\n",
       "    }\n",
       "\n",
       "    .dataframe tbody tr th {\n",
       "        vertical-align: top;\n",
       "    }\n",
       "\n",
       "    .dataframe thead th {\n",
       "        text-align: right;\n",
       "    }\n",
       "</style>\n",
       "<table border=\"1\" class=\"dataframe\">\n",
       "  <thead>\n",
       "    <tr style=\"text-align: right;\">\n",
       "      <th></th>\n",
       "      <th>year</th>\n",
       "      <th>month</th>\n",
       "      <th>passengers</th>\n",
       "    </tr>\n",
       "  </thead>\n",
       "  <tbody>\n",
       "    <tr>\n",
       "      <td>139</td>\n",
       "      <td>1960</td>\n",
       "      <td>August</td>\n",
       "      <td>606</td>\n",
       "    </tr>\n",
       "    <tr>\n",
       "      <td>140</td>\n",
       "      <td>1960</td>\n",
       "      <td>September</td>\n",
       "      <td>508</td>\n",
       "    </tr>\n",
       "    <tr>\n",
       "      <td>141</td>\n",
       "      <td>1960</td>\n",
       "      <td>October</td>\n",
       "      <td>461</td>\n",
       "    </tr>\n",
       "    <tr>\n",
       "      <td>142</td>\n",
       "      <td>1960</td>\n",
       "      <td>November</td>\n",
       "      <td>390</td>\n",
       "    </tr>\n",
       "    <tr>\n",
       "      <td>143</td>\n",
       "      <td>1960</td>\n",
       "      <td>December</td>\n",
       "      <td>432</td>\n",
       "    </tr>\n",
       "  </tbody>\n",
       "</table>\n",
       "</div>"
      ],
      "text/plain": [
       "     year      month  passengers\n",
       "139  1960     August         606\n",
       "140  1960  September         508\n",
       "141  1960    October         461\n",
       "142  1960   November         390\n",
       "143  1960   December         432"
      ]
     },
     "execution_count": 48,
     "metadata": {},
     "output_type": "execute_result"
    }
   ],
   "source": [
    "import seaborn as sns\n",
    "df = sns.load_dataset('flights')\n",
    "df.tail()"
   ]
  },
  {
   "cell_type": "code",
   "execution_count": null,
   "metadata": {},
   "outputs": [],
   "source": []
  },
  {
   "cell_type": "markdown",
   "metadata": {},
   "source": [
    "#### Using groupby\n",
    "###### Finding out how many passengers flew each year\n",
    "\n",
    "On its own, the groupby function does not actually do anything. It needs to be used in conjunction with some form of agregation.\n",
    "\n",
    "```python\n",
    "df.groupby('year')\n",
    "# > <pandas.core.groupby.generic.DataFrameGroupBy object at 0x1164e32e8>\n",
    "```\n",
    "\n",
    "To answer the above question we would like to know the total. To calculate this we can use the `.sum()` function.\n",
    "\n",
    "The dataframe will first be grouped into years, and then each group will be summed.\n",
    "```python\n",
    "df.groupby('year').sum()\n",
    "```"
   ]
  },
  {
   "cell_type": "code",
   "execution_count": 49,
   "metadata": {},
   "outputs": [
    {
     "data": {
      "text/html": [
       "<div>\n",
       "<style scoped>\n",
       "    .dataframe tbody tr th:only-of-type {\n",
       "        vertical-align: middle;\n",
       "    }\n",
       "\n",
       "    .dataframe tbody tr th {\n",
       "        vertical-align: top;\n",
       "    }\n",
       "\n",
       "    .dataframe thead th {\n",
       "        text-align: right;\n",
       "    }\n",
       "</style>\n",
       "<table border=\"1\" class=\"dataframe\">\n",
       "  <thead>\n",
       "    <tr style=\"text-align: right;\">\n",
       "      <th></th>\n",
       "      <th>passengers</th>\n",
       "    </tr>\n",
       "    <tr>\n",
       "      <th>year</th>\n",
       "      <th></th>\n",
       "    </tr>\n",
       "  </thead>\n",
       "  <tbody>\n",
       "    <tr>\n",
       "      <td>1949</td>\n",
       "      <td>1520</td>\n",
       "    </tr>\n",
       "    <tr>\n",
       "      <td>1950</td>\n",
       "      <td>1676</td>\n",
       "    </tr>\n",
       "    <tr>\n",
       "      <td>1951</td>\n",
       "      <td>2042</td>\n",
       "    </tr>\n",
       "    <tr>\n",
       "      <td>1952</td>\n",
       "      <td>2364</td>\n",
       "    </tr>\n",
       "    <tr>\n",
       "      <td>1953</td>\n",
       "      <td>2700</td>\n",
       "    </tr>\n",
       "    <tr>\n",
       "      <td>1954</td>\n",
       "      <td>2867</td>\n",
       "    </tr>\n",
       "    <tr>\n",
       "      <td>1955</td>\n",
       "      <td>3408</td>\n",
       "    </tr>\n",
       "    <tr>\n",
       "      <td>1956</td>\n",
       "      <td>3939</td>\n",
       "    </tr>\n",
       "    <tr>\n",
       "      <td>1957</td>\n",
       "      <td>4421</td>\n",
       "    </tr>\n",
       "    <tr>\n",
       "      <td>1958</td>\n",
       "      <td>4572</td>\n",
       "    </tr>\n",
       "    <tr>\n",
       "      <td>1959</td>\n",
       "      <td>5140</td>\n",
       "    </tr>\n",
       "    <tr>\n",
       "      <td>1960</td>\n",
       "      <td>5714</td>\n",
       "    </tr>\n",
       "  </tbody>\n",
       "</table>\n",
       "</div>"
      ],
      "text/plain": [
       "      passengers\n",
       "year            \n",
       "1949        1520\n",
       "1950        1676\n",
       "1951        2042\n",
       "1952        2364\n",
       "1953        2700\n",
       "1954        2867\n",
       "1955        3408\n",
       "1956        3939\n",
       "1957        4421\n",
       "1958        4572\n",
       "1959        5140\n",
       "1960        5714"
      ]
     },
     "execution_count": 49,
     "metadata": {},
     "output_type": "execute_result"
    }
   ],
   "source": [
    "df.groupby('year').sum()"
   ]
  },
  {
   "cell_type": "code",
   "execution_count": null,
   "metadata": {},
   "outputs": [],
   "source": []
  },
  {
   "cell_type": "markdown",
   "metadata": {},
   "source": [
    "To get a better idea of what is happening we can use the `agg` function.\n",
    "This function will apply a function that reduces the data to a single value.\n",
    "\n",
    "To help visualize the date we can use the `list` function, which will reduce all the values into a single list\n",
    "\n",
    "```python\n",
    "df.groupby('year').agg(list)\n",
    "```"
   ]
  },
  {
   "cell_type": "code",
   "execution_count": 50,
   "metadata": {},
   "outputs": [
    {
     "data": {
      "text/html": [
       "<div>\n",
       "<style scoped>\n",
       "    .dataframe tbody tr th:only-of-type {\n",
       "        vertical-align: middle;\n",
       "    }\n",
       "\n",
       "    .dataframe tbody tr th {\n",
       "        vertical-align: top;\n",
       "    }\n",
       "\n",
       "    .dataframe thead th {\n",
       "        text-align: right;\n",
       "    }\n",
       "</style>\n",
       "<table border=\"1\" class=\"dataframe\">\n",
       "  <thead>\n",
       "    <tr style=\"text-align: right;\">\n",
       "      <th></th>\n",
       "      <th>month</th>\n",
       "      <th>passengers</th>\n",
       "    </tr>\n",
       "    <tr>\n",
       "      <th>year</th>\n",
       "      <th></th>\n",
       "      <th></th>\n",
       "    </tr>\n",
       "  </thead>\n",
       "  <tbody>\n",
       "    <tr>\n",
       "      <td>1949</td>\n",
       "      <td>[January, February, March, April, May, June, J...</td>\n",
       "      <td>[112, 118, 132, 129, 121, 135, 148, 148, 136, ...</td>\n",
       "    </tr>\n",
       "    <tr>\n",
       "      <td>1950</td>\n",
       "      <td>[January, February, March, April, May, June, J...</td>\n",
       "      <td>[115, 126, 141, 135, 125, 149, 170, 170, 158, ...</td>\n",
       "    </tr>\n",
       "    <tr>\n",
       "      <td>1951</td>\n",
       "      <td>[January, February, March, April, May, June, J...</td>\n",
       "      <td>[145, 150, 178, 163, 172, 178, 199, 199, 184, ...</td>\n",
       "    </tr>\n",
       "    <tr>\n",
       "      <td>1952</td>\n",
       "      <td>[January, February, March, April, May, June, J...</td>\n",
       "      <td>[171, 180, 193, 181, 183, 218, 230, 242, 209, ...</td>\n",
       "    </tr>\n",
       "    <tr>\n",
       "      <td>1953</td>\n",
       "      <td>[January, February, March, April, May, June, J...</td>\n",
       "      <td>[196, 196, 236, 235, 229, 243, 264, 272, 237, ...</td>\n",
       "    </tr>\n",
       "    <tr>\n",
       "      <td>1954</td>\n",
       "      <td>[January, February, March, April, May, June, J...</td>\n",
       "      <td>[204, 188, 235, 227, 234, 264, 302, 293, 259, ...</td>\n",
       "    </tr>\n",
       "    <tr>\n",
       "      <td>1955</td>\n",
       "      <td>[January, February, March, April, May, June, J...</td>\n",
       "      <td>[242, 233, 267, 269, 270, 315, 364, 347, 312, ...</td>\n",
       "    </tr>\n",
       "    <tr>\n",
       "      <td>1956</td>\n",
       "      <td>[January, February, March, April, May, June, J...</td>\n",
       "      <td>[284, 277, 317, 313, 318, 374, 413, 405, 355, ...</td>\n",
       "    </tr>\n",
       "    <tr>\n",
       "      <td>1957</td>\n",
       "      <td>[January, February, March, April, May, June, J...</td>\n",
       "      <td>[315, 301, 356, 348, 355, 422, 465, 467, 404, ...</td>\n",
       "    </tr>\n",
       "    <tr>\n",
       "      <td>1958</td>\n",
       "      <td>[January, February, March, April, May, June, J...</td>\n",
       "      <td>[340, 318, 362, 348, 363, 435, 491, 505, 404, ...</td>\n",
       "    </tr>\n",
       "    <tr>\n",
       "      <td>1959</td>\n",
       "      <td>[January, February, March, April, May, June, J...</td>\n",
       "      <td>[360, 342, 406, 396, 420, 472, 548, 559, 463, ...</td>\n",
       "    </tr>\n",
       "    <tr>\n",
       "      <td>1960</td>\n",
       "      <td>[January, February, March, April, May, June, J...</td>\n",
       "      <td>[417, 391, 419, 461, 472, 535, 622, 606, 508, ...</td>\n",
       "    </tr>\n",
       "  </tbody>\n",
       "</table>\n",
       "</div>"
      ],
      "text/plain": [
       "                                                  month  \\\n",
       "year                                                      \n",
       "1949  [January, February, March, April, May, June, J...   \n",
       "1950  [January, February, March, April, May, June, J...   \n",
       "1951  [January, February, March, April, May, June, J...   \n",
       "1952  [January, February, March, April, May, June, J...   \n",
       "1953  [January, February, March, April, May, June, J...   \n",
       "1954  [January, February, March, April, May, June, J...   \n",
       "1955  [January, February, March, April, May, June, J...   \n",
       "1956  [January, February, March, April, May, June, J...   \n",
       "1957  [January, February, March, April, May, June, J...   \n",
       "1958  [January, February, March, April, May, June, J...   \n",
       "1959  [January, February, March, April, May, June, J...   \n",
       "1960  [January, February, March, April, May, June, J...   \n",
       "\n",
       "                                             passengers  \n",
       "year                                                     \n",
       "1949  [112, 118, 132, 129, 121, 135, 148, 148, 136, ...  \n",
       "1950  [115, 126, 141, 135, 125, 149, 170, 170, 158, ...  \n",
       "1951  [145, 150, 178, 163, 172, 178, 199, 199, 184, ...  \n",
       "1952  [171, 180, 193, 181, 183, 218, 230, 242, 209, ...  \n",
       "1953  [196, 196, 236, 235, 229, 243, 264, 272, 237, ...  \n",
       "1954  [204, 188, 235, 227, 234, 264, 302, 293, 259, ...  \n",
       "1955  [242, 233, 267, 269, 270, 315, 364, 347, 312, ...  \n",
       "1956  [284, 277, 317, 313, 318, 374, 413, 405, 355, ...  \n",
       "1957  [315, 301, 356, 348, 355, 422, 465, 467, 404, ...  \n",
       "1958  [340, 318, 362, 348, 363, 435, 491, 505, 404, ...  \n",
       "1959  [360, 342, 406, 396, 420, 472, 548, 559, 463, ...  \n",
       "1960  [417, 391, 419, 461, 472, 535, 622, 606, 508, ...  "
      ]
     },
     "execution_count": 50,
     "metadata": {},
     "output_type": "execute_result"
    }
   ],
   "source": [
    "df.groupby('year').agg(list)"
   ]
  },
  {
   "cell_type": "markdown",
   "metadata": {},
   "source": [
    "This functionality is the same as using `.agg()` on a dataframe. You can use any of the predefined functions that we discussed earlier, multiple agrigation calculations can be applied at the same time.\n",
    "\n",
    "```python\n",
    "df.groupby('year').agg(['sum', 'mean'])\n",
    "```"
   ]
  },
  {
   "cell_type": "code",
   "execution_count": 51,
   "metadata": {},
   "outputs": [
    {
     "data": {
      "text/html": [
       "<div>\n",
       "<style scoped>\n",
       "    .dataframe tbody tr th:only-of-type {\n",
       "        vertical-align: middle;\n",
       "    }\n",
       "\n",
       "    .dataframe tbody tr th {\n",
       "        vertical-align: top;\n",
       "    }\n",
       "\n",
       "    .dataframe thead tr th {\n",
       "        text-align: left;\n",
       "    }\n",
       "\n",
       "    .dataframe thead tr:last-of-type th {\n",
       "        text-align: right;\n",
       "    }\n",
       "</style>\n",
       "<table border=\"1\" class=\"dataframe\">\n",
       "  <thead>\n",
       "    <tr>\n",
       "      <th></th>\n",
       "      <th colspan=\"2\" halign=\"left\">passengers</th>\n",
       "    </tr>\n",
       "    <tr>\n",
       "      <th></th>\n",
       "      <th>sum</th>\n",
       "      <th>mean</th>\n",
       "    </tr>\n",
       "    <tr>\n",
       "      <th>year</th>\n",
       "      <th></th>\n",
       "      <th></th>\n",
       "    </tr>\n",
       "  </thead>\n",
       "  <tbody>\n",
       "    <tr>\n",
       "      <td>1949</td>\n",
       "      <td>1520</td>\n",
       "      <td>126.666667</td>\n",
       "    </tr>\n",
       "    <tr>\n",
       "      <td>1950</td>\n",
       "      <td>1676</td>\n",
       "      <td>139.666667</td>\n",
       "    </tr>\n",
       "    <tr>\n",
       "      <td>1951</td>\n",
       "      <td>2042</td>\n",
       "      <td>170.166667</td>\n",
       "    </tr>\n",
       "    <tr>\n",
       "      <td>1952</td>\n",
       "      <td>2364</td>\n",
       "      <td>197.000000</td>\n",
       "    </tr>\n",
       "    <tr>\n",
       "      <td>1953</td>\n",
       "      <td>2700</td>\n",
       "      <td>225.000000</td>\n",
       "    </tr>\n",
       "    <tr>\n",
       "      <td>1954</td>\n",
       "      <td>2867</td>\n",
       "      <td>238.916667</td>\n",
       "    </tr>\n",
       "    <tr>\n",
       "      <td>1955</td>\n",
       "      <td>3408</td>\n",
       "      <td>284.000000</td>\n",
       "    </tr>\n",
       "    <tr>\n",
       "      <td>1956</td>\n",
       "      <td>3939</td>\n",
       "      <td>328.250000</td>\n",
       "    </tr>\n",
       "    <tr>\n",
       "      <td>1957</td>\n",
       "      <td>4421</td>\n",
       "      <td>368.416667</td>\n",
       "    </tr>\n",
       "    <tr>\n",
       "      <td>1958</td>\n",
       "      <td>4572</td>\n",
       "      <td>381.000000</td>\n",
       "    </tr>\n",
       "    <tr>\n",
       "      <td>1959</td>\n",
       "      <td>5140</td>\n",
       "      <td>428.333333</td>\n",
       "    </tr>\n",
       "    <tr>\n",
       "      <td>1960</td>\n",
       "      <td>5714</td>\n",
       "      <td>476.166667</td>\n",
       "    </tr>\n",
       "  </tbody>\n",
       "</table>\n",
       "</div>"
      ],
      "text/plain": [
       "     passengers            \n",
       "            sum        mean\n",
       "year                       \n",
       "1949       1520  126.666667\n",
       "1950       1676  139.666667\n",
       "1951       2042  170.166667\n",
       "1952       2364  197.000000\n",
       "1953       2700  225.000000\n",
       "1954       2867  238.916667\n",
       "1955       3408  284.000000\n",
       "1956       3939  328.250000\n",
       "1957       4421  368.416667\n",
       "1958       4572  381.000000\n",
       "1959       5140  428.333333\n",
       "1960       5714  476.166667"
      ]
     },
     "execution_count": 51,
     "metadata": {},
     "output_type": "execute_result"
    }
   ],
   "source": [
    "df.groupby('year').agg(['sum', 'mean'])"
   ]
  },
  {
   "cell_type": "markdown",
   "metadata": {},
   "source": [
    "###### Finding the average number of passengers per month\n",
    "\n",
    "We can make use of the groupby and mean functions to achieve this.\n",
    "\n",
    "Lets start simple\n",
    "```python\n",
    "df.groupby('month').mean()\n",
    "```\n",
    "\n",
    "What is wrong with this output?"
   ]
  },
  {
   "cell_type": "code",
   "execution_count": 53,
   "metadata": {
    "scrolled": true
   },
   "outputs": [
    {
     "data": {
      "text/html": [
       "<div>\n",
       "<style scoped>\n",
       "    .dataframe tbody tr th:only-of-type {\n",
       "        vertical-align: middle;\n",
       "    }\n",
       "\n",
       "    .dataframe tbody tr th {\n",
       "        vertical-align: top;\n",
       "    }\n",
       "\n",
       "    .dataframe thead th {\n",
       "        text-align: right;\n",
       "    }\n",
       "</style>\n",
       "<table border=\"1\" class=\"dataframe\">\n",
       "  <thead>\n",
       "    <tr style=\"text-align: right;\">\n",
       "      <th></th>\n",
       "      <th>year</th>\n",
       "      <th>passengers</th>\n",
       "    </tr>\n",
       "    <tr>\n",
       "      <th>month</th>\n",
       "      <th></th>\n",
       "      <th></th>\n",
       "    </tr>\n",
       "  </thead>\n",
       "  <tbody>\n",
       "    <tr>\n",
       "      <td>January</td>\n",
       "      <td>1954.5</td>\n",
       "      <td>223.0</td>\n",
       "    </tr>\n",
       "    <tr>\n",
       "      <td>February</td>\n",
       "      <td>1954.5</td>\n",
       "      <td>214.5</td>\n",
       "    </tr>\n",
       "    <tr>\n",
       "      <td>March</td>\n",
       "      <td>1954.5</td>\n",
       "      <td>251.5</td>\n",
       "    </tr>\n",
       "    <tr>\n",
       "      <td>April</td>\n",
       "      <td>1954.5</td>\n",
       "      <td>252.0</td>\n",
       "    </tr>\n",
       "    <tr>\n",
       "      <td>May</td>\n",
       "      <td>1954.5</td>\n",
       "      <td>252.0</td>\n",
       "    </tr>\n",
       "    <tr>\n",
       "      <td>June</td>\n",
       "      <td>1954.5</td>\n",
       "      <td>289.5</td>\n",
       "    </tr>\n",
       "    <tr>\n",
       "      <td>July</td>\n",
       "      <td>1954.5</td>\n",
       "      <td>333.0</td>\n",
       "    </tr>\n",
       "    <tr>\n",
       "      <td>August</td>\n",
       "      <td>1954.5</td>\n",
       "      <td>320.0</td>\n",
       "    </tr>\n",
       "    <tr>\n",
       "      <td>September</td>\n",
       "      <td>1954.5</td>\n",
       "      <td>285.5</td>\n",
       "    </tr>\n",
       "    <tr>\n",
       "      <td>October</td>\n",
       "      <td>1954.5</td>\n",
       "      <td>251.5</td>\n",
       "    </tr>\n",
       "    <tr>\n",
       "      <td>November</td>\n",
       "      <td>1954.5</td>\n",
       "      <td>220.0</td>\n",
       "    </tr>\n",
       "    <tr>\n",
       "      <td>December</td>\n",
       "      <td>1954.5</td>\n",
       "      <td>253.5</td>\n",
       "    </tr>\n",
       "  </tbody>\n",
       "</table>\n",
       "</div>"
      ],
      "text/plain": [
       "             year  passengers\n",
       "month                        \n",
       "January    1954.5       223.0\n",
       "February   1954.5       214.5\n",
       "March      1954.5       251.5\n",
       "April      1954.5       252.0\n",
       "May        1954.5       252.0\n",
       "June       1954.5       289.5\n",
       "July       1954.5       333.0\n",
       "August     1954.5       320.0\n",
       "September  1954.5       285.5\n",
       "October    1954.5       251.5\n",
       "November   1954.5       220.0\n",
       "December   1954.5       253.5"
      ]
     },
     "execution_count": 53,
     "metadata": {},
     "output_type": "execute_result"
    }
   ],
   "source": [
    "df.groupby('month').median()"
   ]
  },
  {
   "cell_type": "markdown",
   "metadata": {},
   "source": [
    "To fix this we need to first subset our data and remove columns we would not like to agregate.\n",
    "```python\n",
    "df[[\"month\", \"passengers\"]].groupby('month').mean()\n",
    "```"
   ]
  },
  {
   "cell_type": "code",
   "execution_count": 54,
   "metadata": {},
   "outputs": [
    {
     "data": {
      "text/html": [
       "<div>\n",
       "<style scoped>\n",
       "    .dataframe tbody tr th:only-of-type {\n",
       "        vertical-align: middle;\n",
       "    }\n",
       "\n",
       "    .dataframe tbody tr th {\n",
       "        vertical-align: top;\n",
       "    }\n",
       "\n",
       "    .dataframe thead th {\n",
       "        text-align: right;\n",
       "    }\n",
       "</style>\n",
       "<table border=\"1\" class=\"dataframe\">\n",
       "  <thead>\n",
       "    <tr style=\"text-align: right;\">\n",
       "      <th></th>\n",
       "      <th>passengers</th>\n",
       "    </tr>\n",
       "    <tr>\n",
       "      <th>month</th>\n",
       "      <th></th>\n",
       "    </tr>\n",
       "  </thead>\n",
       "  <tbody>\n",
       "    <tr>\n",
       "      <td>January</td>\n",
       "      <td>241.750000</td>\n",
       "    </tr>\n",
       "    <tr>\n",
       "      <td>February</td>\n",
       "      <td>235.000000</td>\n",
       "    </tr>\n",
       "    <tr>\n",
       "      <td>March</td>\n",
       "      <td>270.166667</td>\n",
       "    </tr>\n",
       "    <tr>\n",
       "      <td>April</td>\n",
       "      <td>267.083333</td>\n",
       "    </tr>\n",
       "    <tr>\n",
       "      <td>May</td>\n",
       "      <td>271.833333</td>\n",
       "    </tr>\n",
       "    <tr>\n",
       "      <td>June</td>\n",
       "      <td>311.666667</td>\n",
       "    </tr>\n",
       "    <tr>\n",
       "      <td>July</td>\n",
       "      <td>351.333333</td>\n",
       "    </tr>\n",
       "    <tr>\n",
       "      <td>August</td>\n",
       "      <td>351.083333</td>\n",
       "    </tr>\n",
       "    <tr>\n",
       "      <td>September</td>\n",
       "      <td>302.416667</td>\n",
       "    </tr>\n",
       "    <tr>\n",
       "      <td>October</td>\n",
       "      <td>266.583333</td>\n",
       "    </tr>\n",
       "    <tr>\n",
       "      <td>November</td>\n",
       "      <td>232.833333</td>\n",
       "    </tr>\n",
       "    <tr>\n",
       "      <td>December</td>\n",
       "      <td>261.833333</td>\n",
       "    </tr>\n",
       "  </tbody>\n",
       "</table>\n",
       "</div>"
      ],
      "text/plain": [
       "           passengers\n",
       "month                \n",
       "January    241.750000\n",
       "February   235.000000\n",
       "March      270.166667\n",
       "April      267.083333\n",
       "May        271.833333\n",
       "June       311.666667\n",
       "July       351.333333\n",
       "August     351.083333\n",
       "September  302.416667\n",
       "October    266.583333\n",
       "November   232.833333\n",
       "December   261.833333"
      ]
     },
     "execution_count": 54,
     "metadata": {},
     "output_type": "execute_result"
    }
   ],
   "source": [
    "df[[\"month\", \"passengers\"]].groupby('month').mean()"
   ]
  },
  {
   "cell_type": "markdown",
   "metadata": {},
   "source": [
    "#### What if we wanted to see the median number of passengers by month in 5 year incriments?\n",
    "\n",
    "This is more complicated, we would first need to add a new column defining which 5 year period that year falls into, then we can apply a groupby followed by a median function.\n",
    "\n",
    "```python\n",
    "min_year = df['year'].min()\n",
    "df['5_year_period'] = df.apply(lambda x: (x['year'] - min_year) // 5, axis=1)\n",
    "# This could also be achieved without the apply()\n",
    "# df['5_year_period'] = (df['year'] - df['year'].min()) // 5\n",
    "df\n",
    "```\n",
    "\n",
    "Lets break that down\n",
    "+ `df['year'].min()`\n",
    "  + This returns the earliest year\n",
    "  + If we subtract this from each year it will normalize the years to start from 0\n",
    "+ `df.apply()` will apply a function to the dataframe\n",
    "  + This happens either: \n",
    "    + down columns (axis=0)\n",
    "    + across rows (axis=1) \n",
    "  + The result of apply returns a new dataframe and does not change the original\n",
    "+ `lambda x:`\n",
    "  + `lambda` functions are nameless functions\n",
    "  + `x` is the variable that is passed to the function\n",
    "  + This is neater than defining a function as it can be defined inline\n",
    "    + If the function is complicated it is better to define a function\n",
    "+ `(x['year'] - min_year) // 5`\n",
    "  + `x[year]` is the year in the current row being evaluated\n",
    "  + `//5` is integer/floor division, the remainder is removed and an integer is returned\n",
    "  + This results in 0 for the first 5 years, 1 for the next 5 years and so on"
   ]
  },
  {
   "cell_type": "code",
   "execution_count": 55,
   "metadata": {},
   "outputs": [
    {
     "data": {
      "text/html": [
       "<div>\n",
       "<style scoped>\n",
       "    .dataframe tbody tr th:only-of-type {\n",
       "        vertical-align: middle;\n",
       "    }\n",
       "\n",
       "    .dataframe tbody tr th {\n",
       "        vertical-align: top;\n",
       "    }\n",
       "\n",
       "    .dataframe thead th {\n",
       "        text-align: right;\n",
       "    }\n",
       "</style>\n",
       "<table border=\"1\" class=\"dataframe\">\n",
       "  <thead>\n",
       "    <tr style=\"text-align: right;\">\n",
       "      <th></th>\n",
       "      <th>year</th>\n",
       "      <th>month</th>\n",
       "      <th>passengers</th>\n",
       "      <th>5_year_period</th>\n",
       "    </tr>\n",
       "  </thead>\n",
       "  <tbody>\n",
       "    <tr>\n",
       "      <td>0</td>\n",
       "      <td>1949</td>\n",
       "      <td>January</td>\n",
       "      <td>112</td>\n",
       "      <td>0</td>\n",
       "    </tr>\n",
       "    <tr>\n",
       "      <td>1</td>\n",
       "      <td>1949</td>\n",
       "      <td>February</td>\n",
       "      <td>118</td>\n",
       "      <td>0</td>\n",
       "    </tr>\n",
       "    <tr>\n",
       "      <td>2</td>\n",
       "      <td>1949</td>\n",
       "      <td>March</td>\n",
       "      <td>132</td>\n",
       "      <td>0</td>\n",
       "    </tr>\n",
       "    <tr>\n",
       "      <td>3</td>\n",
       "      <td>1949</td>\n",
       "      <td>April</td>\n",
       "      <td>129</td>\n",
       "      <td>0</td>\n",
       "    </tr>\n",
       "    <tr>\n",
       "      <td>4</td>\n",
       "      <td>1949</td>\n",
       "      <td>May</td>\n",
       "      <td>121</td>\n",
       "      <td>0</td>\n",
       "    </tr>\n",
       "    <tr>\n",
       "      <td>...</td>\n",
       "      <td>...</td>\n",
       "      <td>...</td>\n",
       "      <td>...</td>\n",
       "      <td>...</td>\n",
       "    </tr>\n",
       "    <tr>\n",
       "      <td>139</td>\n",
       "      <td>1960</td>\n",
       "      <td>August</td>\n",
       "      <td>606</td>\n",
       "      <td>2</td>\n",
       "    </tr>\n",
       "    <tr>\n",
       "      <td>140</td>\n",
       "      <td>1960</td>\n",
       "      <td>September</td>\n",
       "      <td>508</td>\n",
       "      <td>2</td>\n",
       "    </tr>\n",
       "    <tr>\n",
       "      <td>141</td>\n",
       "      <td>1960</td>\n",
       "      <td>October</td>\n",
       "      <td>461</td>\n",
       "      <td>2</td>\n",
       "    </tr>\n",
       "    <tr>\n",
       "      <td>142</td>\n",
       "      <td>1960</td>\n",
       "      <td>November</td>\n",
       "      <td>390</td>\n",
       "      <td>2</td>\n",
       "    </tr>\n",
       "    <tr>\n",
       "      <td>143</td>\n",
       "      <td>1960</td>\n",
       "      <td>December</td>\n",
       "      <td>432</td>\n",
       "      <td>2</td>\n",
       "    </tr>\n",
       "  </tbody>\n",
       "</table>\n",
       "<p>144 rows × 4 columns</p>\n",
       "</div>"
      ],
      "text/plain": [
       "     year      month  passengers  5_year_period\n",
       "0    1949    January         112              0\n",
       "1    1949   February         118              0\n",
       "2    1949      March         132              0\n",
       "3    1949      April         129              0\n",
       "4    1949        May         121              0\n",
       "..    ...        ...         ...            ...\n",
       "139  1960     August         606              2\n",
       "140  1960  September         508              2\n",
       "141  1960    October         461              2\n",
       "142  1960   November         390              2\n",
       "143  1960   December         432              2\n",
       "\n",
       "[144 rows x 4 columns]"
      ]
     },
     "execution_count": 55,
     "metadata": {},
     "output_type": "execute_result"
    }
   ],
   "source": [
    "min_year = df['year'].min()\n",
    "df['5_year_period'] = df.apply(lambda x: (x['year'] - min_year) // 5, axis=1)\n",
    "# This could also be achieved without the apply()\n",
    "# df['5_year_period'] = (df['year'] - df['year'].min()) // 5\n",
    "df"
   ]
  },
  {
   "cell_type": "markdown",
   "metadata": {},
   "source": [
    "Now we can drop the year column and groupby the month and the period. Then we can take the median.\n",
    "\n",
    "```python\n",
    "df.drop(columns=['year']).groupby(['month', '5_year_period']).median()\n",
    "```"
   ]
  },
  {
   "cell_type": "code",
   "execution_count": 56,
   "metadata": {},
   "outputs": [
    {
     "data": {
      "text/html": [
       "<div>\n",
       "<style scoped>\n",
       "    .dataframe tbody tr th:only-of-type {\n",
       "        vertical-align: middle;\n",
       "    }\n",
       "\n",
       "    .dataframe tbody tr th {\n",
       "        vertical-align: top;\n",
       "    }\n",
       "\n",
       "    .dataframe thead th {\n",
       "        text-align: right;\n",
       "    }\n",
       "</style>\n",
       "<table border=\"1\" class=\"dataframe\">\n",
       "  <thead>\n",
       "    <tr style=\"text-align: right;\">\n",
       "      <th></th>\n",
       "      <th></th>\n",
       "      <th>passengers</th>\n",
       "    </tr>\n",
       "    <tr>\n",
       "      <th>month</th>\n",
       "      <th>5_year_period</th>\n",
       "      <th></th>\n",
       "    </tr>\n",
       "  </thead>\n",
       "  <tbody>\n",
       "    <tr>\n",
       "      <td rowspan=\"3\" valign=\"top\">January</td>\n",
       "      <td>0</td>\n",
       "      <td>145.0</td>\n",
       "    </tr>\n",
       "    <tr>\n",
       "      <td>1</td>\n",
       "      <td>284.0</td>\n",
       "    </tr>\n",
       "    <tr>\n",
       "      <td>2</td>\n",
       "      <td>388.5</td>\n",
       "    </tr>\n",
       "    <tr>\n",
       "      <td rowspan=\"3\" valign=\"top\">February</td>\n",
       "      <td>0</td>\n",
       "      <td>150.0</td>\n",
       "    </tr>\n",
       "    <tr>\n",
       "      <td>1</td>\n",
       "      <td>277.0</td>\n",
       "    </tr>\n",
       "    <tr>\n",
       "      <td>2</td>\n",
       "      <td>366.5</td>\n",
       "    </tr>\n",
       "    <tr>\n",
       "      <td rowspan=\"3\" valign=\"top\">March</td>\n",
       "      <td>0</td>\n",
       "      <td>178.0</td>\n",
       "    </tr>\n",
       "    <tr>\n",
       "      <td>1</td>\n",
       "      <td>317.0</td>\n",
       "    </tr>\n",
       "    <tr>\n",
       "      <td>2</td>\n",
       "      <td>412.5</td>\n",
       "    </tr>\n",
       "    <tr>\n",
       "      <td rowspan=\"3\" valign=\"top\">April</td>\n",
       "      <td>0</td>\n",
       "      <td>163.0</td>\n",
       "    </tr>\n",
       "    <tr>\n",
       "      <td>1</td>\n",
       "      <td>313.0</td>\n",
       "    </tr>\n",
       "    <tr>\n",
       "      <td>2</td>\n",
       "      <td>428.5</td>\n",
       "    </tr>\n",
       "    <tr>\n",
       "      <td rowspan=\"3\" valign=\"top\">May</td>\n",
       "      <td>0</td>\n",
       "      <td>172.0</td>\n",
       "    </tr>\n",
       "    <tr>\n",
       "      <td>1</td>\n",
       "      <td>318.0</td>\n",
       "    </tr>\n",
       "    <tr>\n",
       "      <td>2</td>\n",
       "      <td>446.0</td>\n",
       "    </tr>\n",
       "    <tr>\n",
       "      <td rowspan=\"3\" valign=\"top\">June</td>\n",
       "      <td>0</td>\n",
       "      <td>178.0</td>\n",
       "    </tr>\n",
       "    <tr>\n",
       "      <td>1</td>\n",
       "      <td>374.0</td>\n",
       "    </tr>\n",
       "    <tr>\n",
       "      <td>2</td>\n",
       "      <td>503.5</td>\n",
       "    </tr>\n",
       "    <tr>\n",
       "      <td rowspan=\"3\" valign=\"top\">July</td>\n",
       "      <td>0</td>\n",
       "      <td>199.0</td>\n",
       "    </tr>\n",
       "    <tr>\n",
       "      <td>1</td>\n",
       "      <td>413.0</td>\n",
       "    </tr>\n",
       "    <tr>\n",
       "      <td>2</td>\n",
       "      <td>585.0</td>\n",
       "    </tr>\n",
       "    <tr>\n",
       "      <td rowspan=\"3\" valign=\"top\">August</td>\n",
       "      <td>0</td>\n",
       "      <td>199.0</td>\n",
       "    </tr>\n",
       "    <tr>\n",
       "      <td>1</td>\n",
       "      <td>405.0</td>\n",
       "    </tr>\n",
       "    <tr>\n",
       "      <td>2</td>\n",
       "      <td>582.5</td>\n",
       "    </tr>\n",
       "    <tr>\n",
       "      <td rowspan=\"3\" valign=\"top\">September</td>\n",
       "      <td>0</td>\n",
       "      <td>184.0</td>\n",
       "    </tr>\n",
       "    <tr>\n",
       "      <td>1</td>\n",
       "      <td>355.0</td>\n",
       "    </tr>\n",
       "    <tr>\n",
       "      <td>2</td>\n",
       "      <td>485.5</td>\n",
       "    </tr>\n",
       "    <tr>\n",
       "      <td rowspan=\"3\" valign=\"top\">October</td>\n",
       "      <td>0</td>\n",
       "      <td>162.0</td>\n",
       "    </tr>\n",
       "    <tr>\n",
       "      <td>1</td>\n",
       "      <td>306.0</td>\n",
       "    </tr>\n",
       "    <tr>\n",
       "      <td>2</td>\n",
       "      <td>434.0</td>\n",
       "    </tr>\n",
       "    <tr>\n",
       "      <td rowspan=\"3\" valign=\"top\">November</td>\n",
       "      <td>0</td>\n",
       "      <td>146.0</td>\n",
       "    </tr>\n",
       "    <tr>\n",
       "      <td>1</td>\n",
       "      <td>271.0</td>\n",
       "    </tr>\n",
       "    <tr>\n",
       "      <td>2</td>\n",
       "      <td>376.0</td>\n",
       "    </tr>\n",
       "    <tr>\n",
       "      <td rowspan=\"3\" valign=\"top\">December</td>\n",
       "      <td>0</td>\n",
       "      <td>166.0</td>\n",
       "    </tr>\n",
       "    <tr>\n",
       "      <td>1</td>\n",
       "      <td>306.0</td>\n",
       "    </tr>\n",
       "    <tr>\n",
       "      <td>2</td>\n",
       "      <td>418.5</td>\n",
       "    </tr>\n",
       "  </tbody>\n",
       "</table>\n",
       "</div>"
      ],
      "text/plain": [
       "                         passengers\n",
       "month     5_year_period            \n",
       "January   0                   145.0\n",
       "          1                   284.0\n",
       "          2                   388.5\n",
       "February  0                   150.0\n",
       "          1                   277.0\n",
       "          2                   366.5\n",
       "March     0                   178.0\n",
       "          1                   317.0\n",
       "          2                   412.5\n",
       "April     0                   163.0\n",
       "          1                   313.0\n",
       "          2                   428.5\n",
       "May       0                   172.0\n",
       "          1                   318.0\n",
       "          2                   446.0\n",
       "June      0                   178.0\n",
       "          1                   374.0\n",
       "          2                   503.5\n",
       "July      0                   199.0\n",
       "          1                   413.0\n",
       "          2                   585.0\n",
       "August    0                   199.0\n",
       "          1                   405.0\n",
       "          2                   582.5\n",
       "September 0                   184.0\n",
       "          1                   355.0\n",
       "          2                   485.5\n",
       "October   0                   162.0\n",
       "          1                   306.0\n",
       "          2                   434.0\n",
       "November  0                   146.0\n",
       "          1                   271.0\n",
       "          2                   376.0\n",
       "December  0                   166.0\n",
       "          1                   306.0\n",
       "          2                   418.5"
      ]
     },
     "execution_count": 56,
     "metadata": {},
     "output_type": "execute_result"
    }
   ],
   "source": [
    "df.drop(columns=['year']).groupby(['month', '5_year_period']).median()"
   ]
  },
  {
   "cell_type": "markdown",
   "metadata": {},
   "source": [
    "##### An alternate approach\n",
    "\n",
    "0, 1, 2 are not very informative columns, instead we should keep this in years.\n",
    "\n",
    "```python\n",
    "df['5_year_period'] = df.apply(lambda x: '{}-{}'.format((x['year'] // 5) * 5, ((x['year'] + 5) // 5) * 5), axis=1)\n",
    "df\n",
    "```"
   ]
  },
  {
   "cell_type": "code",
   "execution_count": 72,
   "metadata": {},
   "outputs": [
    {
     "data": {
      "text/html": [
       "<div>\n",
       "<style scoped>\n",
       "    .dataframe tbody tr th:only-of-type {\n",
       "        vertical-align: middle;\n",
       "    }\n",
       "\n",
       "    .dataframe tbody tr th {\n",
       "        vertical-align: top;\n",
       "    }\n",
       "\n",
       "    .dataframe thead th {\n",
       "        text-align: right;\n",
       "    }\n",
       "</style>\n",
       "<table border=\"1\" class=\"dataframe\">\n",
       "  <thead>\n",
       "    <tr style=\"text-align: right;\">\n",
       "      <th></th>\n",
       "      <th>year</th>\n",
       "      <th>month</th>\n",
       "      <th>passengers</th>\n",
       "      <th>5_year_period</th>\n",
       "    </tr>\n",
       "  </thead>\n",
       "  <tbody>\n",
       "    <tr>\n",
       "      <td>0</td>\n",
       "      <td>1949</td>\n",
       "      <td>January</td>\n",
       "      <td>112</td>\n",
       "      <td>1945-1950</td>\n",
       "    </tr>\n",
       "    <tr>\n",
       "      <td>1</td>\n",
       "      <td>1949</td>\n",
       "      <td>February</td>\n",
       "      <td>118</td>\n",
       "      <td>1945-1950</td>\n",
       "    </tr>\n",
       "    <tr>\n",
       "      <td>2</td>\n",
       "      <td>1949</td>\n",
       "      <td>March</td>\n",
       "      <td>132</td>\n",
       "      <td>1945-1950</td>\n",
       "    </tr>\n",
       "    <tr>\n",
       "      <td>3</td>\n",
       "      <td>1949</td>\n",
       "      <td>April</td>\n",
       "      <td>129</td>\n",
       "      <td>1945-1950</td>\n",
       "    </tr>\n",
       "    <tr>\n",
       "      <td>4</td>\n",
       "      <td>1949</td>\n",
       "      <td>May</td>\n",
       "      <td>121</td>\n",
       "      <td>1945-1950</td>\n",
       "    </tr>\n",
       "    <tr>\n",
       "      <td>...</td>\n",
       "      <td>...</td>\n",
       "      <td>...</td>\n",
       "      <td>...</td>\n",
       "      <td>...</td>\n",
       "    </tr>\n",
       "    <tr>\n",
       "      <td>139</td>\n",
       "      <td>1960</td>\n",
       "      <td>August</td>\n",
       "      <td>606</td>\n",
       "      <td>1960-1965</td>\n",
       "    </tr>\n",
       "    <tr>\n",
       "      <td>140</td>\n",
       "      <td>1960</td>\n",
       "      <td>September</td>\n",
       "      <td>508</td>\n",
       "      <td>1960-1965</td>\n",
       "    </tr>\n",
       "    <tr>\n",
       "      <td>141</td>\n",
       "      <td>1960</td>\n",
       "      <td>October</td>\n",
       "      <td>461</td>\n",
       "      <td>1960-1965</td>\n",
       "    </tr>\n",
       "    <tr>\n",
       "      <td>142</td>\n",
       "      <td>1960</td>\n",
       "      <td>November</td>\n",
       "      <td>390</td>\n",
       "      <td>1960-1965</td>\n",
       "    </tr>\n",
       "    <tr>\n",
       "      <td>143</td>\n",
       "      <td>1960</td>\n",
       "      <td>December</td>\n",
       "      <td>432</td>\n",
       "      <td>1960-1965</td>\n",
       "    </tr>\n",
       "  </tbody>\n",
       "</table>\n",
       "<p>144 rows × 4 columns</p>\n",
       "</div>"
      ],
      "text/plain": [
       "     year      month  passengers 5_year_period\n",
       "0    1949    January         112     1945-1950\n",
       "1    1949   February         118     1945-1950\n",
       "2    1949      March         132     1945-1950\n",
       "3    1949      April         129     1945-1950\n",
       "4    1949        May         121     1945-1950\n",
       "..    ...        ...         ...           ...\n",
       "139  1960     August         606     1960-1965\n",
       "140  1960  September         508     1960-1965\n",
       "141  1960    October         461     1960-1965\n",
       "142  1960   November         390     1960-1965\n",
       "143  1960   December         432     1960-1965\n",
       "\n",
       "[144 rows x 4 columns]"
      ]
     },
     "execution_count": 72,
     "metadata": {},
     "output_type": "execute_result"
    }
   ],
   "source": [
    "df['5_year_period'] = df.apply(lambda x: '{}-{}'.format((x['year'] // 5) * 5, ((x['year'] + 5) // 5) * 5), axis=1)\n",
    "df"
   ]
  },
  {
   "cell_type": "code",
   "execution_count": 75,
   "metadata": {},
   "outputs": [
    {
     "data": {
      "text/html": [
       "<div>\n",
       "<style scoped>\n",
       "    .dataframe tbody tr th:only-of-type {\n",
       "        vertical-align: middle;\n",
       "    }\n",
       "\n",
       "    .dataframe tbody tr th {\n",
       "        vertical-align: top;\n",
       "    }\n",
       "\n",
       "    .dataframe thead th {\n",
       "        text-align: right;\n",
       "    }\n",
       "</style>\n",
       "<table border=\"1\" class=\"dataframe\">\n",
       "  <thead>\n",
       "    <tr style=\"text-align: right;\">\n",
       "      <th></th>\n",
       "      <th></th>\n",
       "      <th>passengers</th>\n",
       "    </tr>\n",
       "    <tr>\n",
       "      <th>month</th>\n",
       "      <th>5_year_period</th>\n",
       "      <th></th>\n",
       "    </tr>\n",
       "  </thead>\n",
       "  <tbody>\n",
       "    <tr>\n",
       "      <td rowspan=\"4\" valign=\"top\">January</td>\n",
       "      <td>1945-1950</td>\n",
       "      <td>112</td>\n",
       "    </tr>\n",
       "    <tr>\n",
       "      <td>1950-1955</td>\n",
       "      <td>171</td>\n",
       "    </tr>\n",
       "    <tr>\n",
       "      <td>1955-1960</td>\n",
       "      <td>315</td>\n",
       "    </tr>\n",
       "    <tr>\n",
       "      <td>1960-1965</td>\n",
       "      <td>417</td>\n",
       "    </tr>\n",
       "    <tr>\n",
       "      <td>February</td>\n",
       "      <td>1945-1950</td>\n",
       "      <td>118</td>\n",
       "    </tr>\n",
       "  </tbody>\n",
       "</table>\n",
       "</div>"
      ],
      "text/plain": [
       "                        passengers\n",
       "month    5_year_period            \n",
       "January  1945-1950             112\n",
       "         1950-1955             171\n",
       "         1955-1960             315\n",
       "         1960-1965             417\n",
       "February 1945-1950             118"
      ]
     },
     "execution_count": 75,
     "metadata": {},
     "output_type": "execute_result"
    }
   ],
   "source": [
    "df_median = df.drop(columns='year').groupby(['month', '5_year_period']).median()\n",
    "df_median.head()"
   ]
  },
  {
   "cell_type": "markdown",
   "metadata": {},
   "source": [
    "We now have a long format table. The reason that this table is in long format is that we have a single passenger count per row in the dataframe. Alternatively, in wide format, each month would have three values. One for each of the 5 year windows.\n",
    "\n",
    "Converting from long format to wide format requires the `pivot()` function.\n",
    "\n",
    "Before we can pivot the table, we need to reset the index using `reset_index()`. This will remove the groupings created by `groupby()`\n",
    "\n",
    "```python\n",
    "df_median = df_median.reset_index()\n",
    "df_median.head()\n",
    "```"
   ]
  },
  {
   "cell_type": "code",
   "execution_count": 76,
   "metadata": {},
   "outputs": [
    {
     "data": {
      "text/html": [
       "<div>\n",
       "<style scoped>\n",
       "    .dataframe tbody tr th:only-of-type {\n",
       "        vertical-align: middle;\n",
       "    }\n",
       "\n",
       "    .dataframe tbody tr th {\n",
       "        vertical-align: top;\n",
       "    }\n",
       "\n",
       "    .dataframe thead th {\n",
       "        text-align: right;\n",
       "    }\n",
       "</style>\n",
       "<table border=\"1\" class=\"dataframe\">\n",
       "  <thead>\n",
       "    <tr style=\"text-align: right;\">\n",
       "      <th></th>\n",
       "      <th>month</th>\n",
       "      <th>5_year_period</th>\n",
       "      <th>passengers</th>\n",
       "    </tr>\n",
       "  </thead>\n",
       "  <tbody>\n",
       "    <tr>\n",
       "      <td>0</td>\n",
       "      <td>January</td>\n",
       "      <td>1945-1950</td>\n",
       "      <td>112</td>\n",
       "    </tr>\n",
       "    <tr>\n",
       "      <td>1</td>\n",
       "      <td>January</td>\n",
       "      <td>1950-1955</td>\n",
       "      <td>171</td>\n",
       "    </tr>\n",
       "    <tr>\n",
       "      <td>2</td>\n",
       "      <td>January</td>\n",
       "      <td>1955-1960</td>\n",
       "      <td>315</td>\n",
       "    </tr>\n",
       "    <tr>\n",
       "      <td>3</td>\n",
       "      <td>January</td>\n",
       "      <td>1960-1965</td>\n",
       "      <td>417</td>\n",
       "    </tr>\n",
       "    <tr>\n",
       "      <td>4</td>\n",
       "      <td>February</td>\n",
       "      <td>1945-1950</td>\n",
       "      <td>118</td>\n",
       "    </tr>\n",
       "  </tbody>\n",
       "</table>\n",
       "</div>"
      ],
      "text/plain": [
       "      month 5_year_period  passengers\n",
       "0   January     1945-1950         112\n",
       "1   January     1950-1955         171\n",
       "2   January     1955-1960         315\n",
       "3   January     1960-1965         417\n",
       "4  February     1945-1950         118"
      ]
     },
     "execution_count": 76,
     "metadata": {},
     "output_type": "execute_result"
    }
   ],
   "source": [
    "df_median = df_median.reset_index()\n",
    "df_median.head()"
   ]
  },
  {
   "cell_type": "markdown",
   "metadata": {},
   "source": [
    "The pivot function has three arguments\n",
    "+ index : string or object, optional\n",
    "  + Column to use to make new frame’s index. If None, uses existing index.\n",
    "\n",
    "+ columns : string or object\n",
    "  + Column to use to make new frame’s columns.\n",
    "\n",
    "+ values : string, object or a list of the previous, optional\n",
    "  + Column(s) to use for populating new frame’s values. If not specified, all remaining columns will be used and the result will have hierarchically indexed columns.\n",
    "\n",
    "In our case, the **month** will be the index, the values will come from **passengers** and the columns are defined by **5_year_period**.\n",
    "\n",
    "```python\n",
    "df_wide = df_median.pivot(index='month', columns='5_year_period', values='passengers')\n",
    "df_wide.head()\n",
    "```"
   ]
  },
  {
   "cell_type": "code",
   "execution_count": 62,
   "metadata": {},
   "outputs": [
    {
     "data": {
      "text/html": [
       "<div>\n",
       "<style scoped>\n",
       "    .dataframe tbody tr th:only-of-type {\n",
       "        vertical-align: middle;\n",
       "    }\n",
       "\n",
       "    .dataframe tbody tr th {\n",
       "        vertical-align: top;\n",
       "    }\n",
       "\n",
       "    .dataframe thead th {\n",
       "        text-align: right;\n",
       "    }\n",
       "</style>\n",
       "<table border=\"1\" class=\"dataframe\">\n",
       "  <thead>\n",
       "    <tr style=\"text-align: right;\">\n",
       "      <th>5_year_period</th>\n",
       "      <th>1945-1950</th>\n",
       "      <th>1950-1950</th>\n",
       "      <th>1950-1955</th>\n",
       "      <th>1955-1955</th>\n",
       "      <th>1955-1960</th>\n",
       "      <th>1960-1960</th>\n",
       "    </tr>\n",
       "    <tr>\n",
       "      <th>month</th>\n",
       "      <th></th>\n",
       "      <th></th>\n",
       "      <th></th>\n",
       "      <th></th>\n",
       "      <th></th>\n",
       "      <th></th>\n",
       "    </tr>\n",
       "  </thead>\n",
       "  <tbody>\n",
       "    <tr>\n",
       "      <td>January</td>\n",
       "      <td>112.0</td>\n",
       "      <td>115.0</td>\n",
       "      <td>183.5</td>\n",
       "      <td>242.0</td>\n",
       "      <td>327.5</td>\n",
       "      <td>417.0</td>\n",
       "    </tr>\n",
       "    <tr>\n",
       "      <td>February</td>\n",
       "      <td>118.0</td>\n",
       "      <td>126.0</td>\n",
       "      <td>184.0</td>\n",
       "      <td>233.0</td>\n",
       "      <td>309.5</td>\n",
       "      <td>391.0</td>\n",
       "    </tr>\n",
       "    <tr>\n",
       "      <td>March</td>\n",
       "      <td>132.0</td>\n",
       "      <td>141.0</td>\n",
       "      <td>214.0</td>\n",
       "      <td>267.0</td>\n",
       "      <td>359.0</td>\n",
       "      <td>419.0</td>\n",
       "    </tr>\n",
       "    <tr>\n",
       "      <td>April</td>\n",
       "      <td>129.0</td>\n",
       "      <td>135.0</td>\n",
       "      <td>204.0</td>\n",
       "      <td>269.0</td>\n",
       "      <td>348.0</td>\n",
       "      <td>461.0</td>\n",
       "    </tr>\n",
       "    <tr>\n",
       "      <td>May</td>\n",
       "      <td>121.0</td>\n",
       "      <td>125.0</td>\n",
       "      <td>206.0</td>\n",
       "      <td>270.0</td>\n",
       "      <td>359.0</td>\n",
       "      <td>472.0</td>\n",
       "    </tr>\n",
       "  </tbody>\n",
       "</table>\n",
       "</div>"
      ],
      "text/plain": [
       "5_year_period  1945-1950  1950-1950  1950-1955  1955-1955  1955-1960  \\\n",
       "month                                                                  \n",
       "January            112.0      115.0      183.5      242.0      327.5   \n",
       "February           118.0      126.0      184.0      233.0      309.5   \n",
       "March              132.0      141.0      214.0      267.0      359.0   \n",
       "April              129.0      135.0      204.0      269.0      348.0   \n",
       "May                121.0      125.0      206.0      270.0      359.0   \n",
       "\n",
       "5_year_period  1960-1960  \n",
       "month                     \n",
       "January            417.0  \n",
       "February           391.0  \n",
       "March              419.0  \n",
       "April              461.0  \n",
       "May                472.0  "
      ]
     },
     "execution_count": 62,
     "metadata": {},
     "output_type": "execute_result"
    }
   ],
   "source": [
    "df_wide = df_median.pivot(index='month', columns='5_year_period', values='passengers')\n",
    "df_wide.head()"
   ]
  },
  {
   "cell_type": "markdown",
   "metadata": {},
   "source": [
    "The header of the table is multidimensional after the pivot operation. To revert the table back to a regular dataframe the index needs to be reset. Another issue is that the index axis is renamed during this process so that needs to be reset as well.\n",
    "\n",
    "```python\n",
    "df_wide = df_wide.reset_index().rename_axis(None, axis=1)\n",
    "df_wide.head()\n",
    "```\n"
   ]
  },
  {
   "cell_type": "code",
   "execution_count": 65,
   "metadata": {},
   "outputs": [],
   "source": [
    "df_wide = df_wide.reset_index().rename_axis(None, axis=1)"
   ]
  },
  {
   "cell_type": "markdown",
   "metadata": {},
   "source": [
    "#### Melting a DataFrame\n",
    "\n",
    "Melt is the reverse operation of pivot. Pivot converts a long format dataframe to a wide format and melt converts a wide format dataframe to a long format.\n",
    "\n",
    "The arguments required by `.melt()` taken from the documentation\n",
    "+ id_vars : tuple, list, or ndarray, optional\n",
    "  + Column(s) to use as identifier variables.\n",
    "\n",
    "+ value_vars : tuple, list, or ndarray, optional\n",
    "  + Column(s) to unpivot. If not specified, uses all columns that are not set as id_vars.\n",
    "\n",
    "+ var_name : scalar\n",
    "  + Name to use for the ‘variable’ column. If None it uses frame.columns.name or ‘variable’.\n",
    "\n",
    "+ value_name : scalar, default ‘value’\n",
    "  + Name to use for the ‘value’ column.\n",
    "\n",
    "+ col_level : int or string, optional\n",
    "  + If columns are a MultiIndex then use this level to melt.\n",
    "  \n",
    "```python\n",
    "df_wide.melt(id_vars=['month'], var_name='5_year_period', value_name='passengers').head()\n",
    "```"
   ]
  },
  {
   "cell_type": "code",
   "execution_count": 66,
   "metadata": {},
   "outputs": [
    {
     "data": {
      "text/html": [
       "<div>\n",
       "<style scoped>\n",
       "    .dataframe tbody tr th:only-of-type {\n",
       "        vertical-align: middle;\n",
       "    }\n",
       "\n",
       "    .dataframe tbody tr th {\n",
       "        vertical-align: top;\n",
       "    }\n",
       "\n",
       "    .dataframe thead th {\n",
       "        text-align: right;\n",
       "    }\n",
       "</style>\n",
       "<table border=\"1\" class=\"dataframe\">\n",
       "  <thead>\n",
       "    <tr style=\"text-align: right;\">\n",
       "      <th></th>\n",
       "      <th>month</th>\n",
       "      <th>5_year_period</th>\n",
       "      <th>passengers</th>\n",
       "    </tr>\n",
       "  </thead>\n",
       "  <tbody>\n",
       "    <tr>\n",
       "      <td>0</td>\n",
       "      <td>January</td>\n",
       "      <td>1945-1950</td>\n",
       "      <td>112.0</td>\n",
       "    </tr>\n",
       "    <tr>\n",
       "      <td>1</td>\n",
       "      <td>February</td>\n",
       "      <td>1945-1950</td>\n",
       "      <td>118.0</td>\n",
       "    </tr>\n",
       "    <tr>\n",
       "      <td>2</td>\n",
       "      <td>March</td>\n",
       "      <td>1945-1950</td>\n",
       "      <td>132.0</td>\n",
       "    </tr>\n",
       "    <tr>\n",
       "      <td>3</td>\n",
       "      <td>April</td>\n",
       "      <td>1945-1950</td>\n",
       "      <td>129.0</td>\n",
       "    </tr>\n",
       "    <tr>\n",
       "      <td>4</td>\n",
       "      <td>May</td>\n",
       "      <td>1945-1950</td>\n",
       "      <td>121.0</td>\n",
       "    </tr>\n",
       "  </tbody>\n",
       "</table>\n",
       "</div>"
      ],
      "text/plain": [
       "      month 5_year_period  passengers\n",
       "0   January     1945-1950       112.0\n",
       "1  February     1945-1950       118.0\n",
       "2     March     1945-1950       132.0\n",
       "3     April     1945-1950       129.0\n",
       "4       May     1945-1950       121.0"
      ]
     },
     "execution_count": 66,
     "metadata": {},
     "output_type": "execute_result"
    }
   ],
   "source": [
    "df_wide.melt(id_vars=['month'], var_name='5_year_period', value_name='passengers').head()"
   ]
  },
  {
   "cell_type": "markdown",
   "metadata": {},
   "source": [
    "## Seaborn\n",
    "\n",
    "Seaborn is statistical plotting library that works well with pandas, its all about shaping your data correctly.\n",
    "\n",
    "Here is the API which lists all the plots:\n",
    "https://seaborn.pydata.org/api.html\n",
    "\n",
    "Here is a gallery which gives some examples of different plots:\n",
    "https://seaborn.pydata.org/examples/index.html\n",
    "\n",
    "They have good tutorials covering most aspects of using the package:\n",
    "https://seaborn.pydata.org/tutorial.html\n",
    "\n"
   ]
  },
  {
   "cell_type": "markdown",
   "metadata": {},
   "source": [
    "#### Importing Seaborn\n",
    "\n",
    "The package needs to be installed into the python environment\n",
    "```shell\n",
    "conda install seaborn\n",
    "```\n",
    "\n",
    "Once the package has been installed it can be imported\n",
    "```python\n",
    "import seaborn as sns\n",
    "```"
   ]
  },
  {
   "cell_type": "code",
   "execution_count": 68,
   "metadata": {},
   "outputs": [],
   "source": [
    "import seaborn as sns"
   ]
  },
  {
   "cell_type": "markdown",
   "metadata": {},
   "source": [
    "##### Seaborn plot types\n",
    "\n",
    "In Seaborns API the plots are separated by category.\n",
    "\n",
    "We will go over some of the plots from different categories"
   ]
  },
  {
   "cell_type": "markdown",
   "metadata": {},
   "source": [
    "### Categorical Plots\n",
    "\n",
    "Choosing the right plot for the job.\n",
    "This takes practice and taking the time to think about what you want your plots to convey.\n",
    "\n",
    "#### Count Plots / Bar plots\n",
    "+ count plot: https://seaborn.pydata.org/generated/seaborn.countplot.html#seaborn.countplot\n",
    "+ bar plot: https://seaborn.pydata.org/generated/seaborn.barplot.html#seaborn.barplot\n",
    "\n",
    "With the flights dataset we already have the counts, so we can use a barplot\n",
    "\n",
    "```python\n",
    "sns.barplot(x = '5_year_period', y='passengers', data=df_median)\n",
    "```"
   ]
  },
  {
   "cell_type": "code",
   "execution_count": 77,
   "metadata": {},
   "outputs": [
    {
     "data": {
      "text/plain": [
       "<matplotlib.axes._subplots.AxesSubplot at 0x1186c0630>"
      ]
     },
     "execution_count": 77,
     "metadata": {},
     "output_type": "execute_result"
    },
    {
     "data": {
      "image/png": "[encoded data removed]",
      "text/plain": [
       "<Figure size 432x288 with 1 Axes>"
      ]
     },
     "metadata": {
      "needs_background": "light"
     },
     "output_type": "display_data"
    }
   ],
   "source": [
    "sns.barplot(\n",
    "    x = '5_year_period', \n",
    "    y='passengers', \n",
    "    data=df_median)"
   ]
  },
  {
   "cell_type": "markdown",
   "metadata": {},
   "source": [
    "##### Box Plots\n",
    "\n",
    "```python\n",
    "sns.boxplot(y='passengers', x='month', data=df)\n",
    "```"
   ]
  },
  {
   "cell_type": "code",
   "execution_count": 78,
   "metadata": {},
   "outputs": [
    {
     "data": {
      "text/plain": [
       "<matplotlib.axes._subplots.AxesSubplot at 0x118a76e80>"
      ]
     },
     "execution_count": 78,
     "metadata": {},
     "output_type": "execute_result"
    },
    {
     "data": {
      "image/png": "[encoded data removed]",
      "text/plain": [
       "<Figure size 432x288 with 1 Axes>"
      ]
     },
     "metadata": {
      "needs_background": "light"
     },
     "output_type": "display_data"
    }
   ],
   "source": [
    "sns.boxplot(\n",
    "    y='passengers', \n",
    "    x='month', \n",
    "    data=df)"
   ]
  },
  {
   "cell_type": "markdown",
   "metadata": {},
   "source": [
    "##### Boxen Plots (Box plots for large datasets)\n",
    "\n",
    "```python\n",
    "sns.boxenplot(y='passengers', x='month', data=df)\n",
    "```"
   ]
  },
  {
   "cell_type": "code",
   "execution_count": 79,
   "metadata": {},
   "outputs": [
    {
     "data": {
      "text/plain": [
       "<matplotlib.axes._subplots.AxesSubplot at 0x118de8160>"
      ]
     },
     "execution_count": 79,
     "metadata": {},
     "output_type": "execute_result"
    },
    {
     "data": {
      "image/png": "[encoded data removed]",
      "text/plain": [
       "<Figure size 432x288 with 1 Axes>"
      ]
     },
     "metadata": {
      "needs_background": "light"
     },
     "output_type": "display_data"
    }
   ],
   "source": [
    "sns.boxenplot(y='passengers', x='month', data=df)"
   ]
  },
  {
   "cell_type": "markdown",
   "metadata": {},
   "source": [
    "##### SwarmPlot\n",
    "\n",
    "This is a categorical scatter plot, but the points are adjusted so that they do not overlap\n",
    "```python\n",
    "sns.swarmplot(y='passengers', x='month', data=df)\n",
    "```"
   ]
  },
  {
   "cell_type": "code",
   "execution_count": 92,
   "metadata": {},
   "outputs": [
    {
     "data": {
      "text/plain": [
       "<matplotlib.axes._subplots.AxesSubplot at 0x11b3f95f8>"
      ]
     },
     "execution_count": 92,
     "metadata": {},
     "output_type": "execute_result"
    },
    {
     "data": {
      "image/png": "[encoded data removed]",
      "text/plain": [
       "<Figure size 432x288 with 1 Axes>"
      ]
     },
     "metadata": {
      "needs_background": "light"
     },
     "output_type": "display_data"
    }
   ],
   "source": [
    "sns.lineplot(\n",
    "    y='passengers', \n",
    "    x='month', \n",
    "    hue='5_year_period',\n",
    "    data=df_median)"
   ]
  },
  {
   "cell_type": "markdown",
   "metadata": {},
   "source": [
    "### Distribution plots\n",
    "\n",
    "##### Dist plot\n",
    "\n",
    "```python\n",
    "sns.distplot(df['passengers'])\n",
    "```"
   ]
  },
  {
   "cell_type": "code",
   "execution_count": 93,
   "metadata": {},
   "outputs": [
    {
     "data": {
      "text/plain": [
       "<matplotlib.axes._subplots.AxesSubplot at 0x11b2388d0>"
      ]
     },
     "execution_count": 93,
     "metadata": {},
     "output_type": "execute_result"
    },
    {
     "data": {
      "image/png": "[encoded data removed]",
      "text/plain": [
       "<Figure size 432x288 with 1 Axes>"
      ]
     },
     "metadata": {
      "needs_background": "light"
     },
     "output_type": "display_data"
    }
   ],
   "source": [
    "sns.distplot(df['passengers'])"
   ]
  },
  {
   "cell_type": "markdown",
   "metadata": {},
   "source": [
    "##### Color Pallets\n",
    "\n",
    "Color is important when you are creating plots. Often the default colors are not the best choice."
   ]
  },
  {
   "cell_type": "code",
   "execution_count": 94,
   "metadata": {},
   "outputs": [
    {
     "data": {
      "text/plain": [
       "<matplotlib.axes._subplots.AxesSubplot at 0x11b5d07b8>"
      ]
     },
     "execution_count": 94,
     "metadata": {},
     "output_type": "execute_result"
    },
    {
     "data": {
      "image/png": "[encoded data removed]",
      "text/plain": [
       "<Figure size 432x288 with 1 Axes>"
      ]
     },
     "metadata": {
      "needs_background": "light"
     },
     "output_type": "display_data"
    }
   ],
   "source": [
    "sns.barplot(x = '5_year_period', y='passengers', data=df_median)"
   ]
  },
  {
   "cell_type": "code",
   "execution_count": 98,
   "metadata": {},
   "outputs": [],
   "source": [
    "ncol = len(df_median['5_year_period'].unique())"
   ]
  },
  {
   "cell_type": "code",
   "execution_count": 101,
   "metadata": {},
   "outputs": [
    {
     "data": {
      "image/png": "[encoded data removed]",
      "text/plain": [
       "<Figure size 288x72 with 1 Axes>"
      ]
     },
     "metadata": {
      "needs_background": "light"
     },
     "output_type": "display_data"
    }
   ],
   "source": [
    "sns.palplot(\n",
    "    sns.cubehelix_palette(\n",
    "        n_colors=ncol, \n",
    "        start=-0.05, \n",
    "        rot=0.1, \n",
    "        reverse=True)\n",
    ")"
   ]
  },
  {
   "cell_type": "code",
   "execution_count": 107,
   "metadata": {},
   "outputs": [
    {
     "data": {
      "image/png": "[encoded data removed]",
      "text/plain": [
       "<Figure size 432x288 with 1 Axes>"
      ]
     },
     "metadata": {
      "needs_background": "light"
     },
     "output_type": "display_data"
    }
   ],
   "source": [
    "c_pal = sns.cubehelix_palette(\n",
    "    n_colors=3, start=-0.05, rot=0.1, reverse=True\n",
    ")\n",
    "_ = sns.barplot(\n",
    "    x = '5_year_period', y='passengers', data=df_median, palette=c_pal\n",
    ")"
   ]
  },
  {
   "cell_type": "markdown",
   "metadata": {},
   "source": [
    "#### Style control\n",
    "\n",
    "Changing the size of a figure by setting it before we create the plot\n",
    "\n",
    "This requires matplotlib to be imported\n",
    "\n",
    "```python\n",
    "import matplotlib.pyplot as plt\n",
    "```"
   ]
  },
  {
   "cell_type": "code",
   "execution_count": 104,
   "metadata": {},
   "outputs": [],
   "source": [
    "import matplotlib.pyplot as plt"
   ]
  },
  {
   "cell_type": "markdown",
   "metadata": {},
   "source": [
    "The size is set by creatign a new figure. The figure function has an arguement `figsize` which can be set using a tuple `(width, height)`\n",
    "\n",
    "```python\n",
    "fig = plt.figure(figsize=(10, 8))\n",
    "\n",
    "c_pal = sns.cubehelix_palette(n_colors=4, start=-0.05, rot=0.1, reverse=True)\n",
    "_ = sns.barplot(x = '5_year_period', y='passengers', data=df_median, palette=c_pal)\n",
    "```"
   ]
  },
  {
   "cell_type": "code",
   "execution_count": 106,
   "metadata": {},
   "outputs": [
    {
     "data": {
      "image/png": "[encoded data removed]",
      "text/plain": [
       "<Figure size 720x288 with 1 Axes>"
      ]
     },
     "metadata": {
      "needs_background": "light"
     },
     "output_type": "display_data"
    }
   ],
   "source": [
    "fig = plt.figure(figsize=(10, 4))\n",
    "\n",
    "c_pal = sns.cubehelix_palette(n_colors=4, start=-0.05, rot=0.1, reverse=True)\n",
    "_ = sns.barplot(x = '5_year_period', y='passengers', data=df_median, palette=c_pal)"
   ]
  },
  {
   "cell_type": "markdown",
   "metadata": {},
   "source": [
    "This can become painful if we are creating many plots. If Seaborn is being used for plotting the default figure size can be set using this command:\n",
    "\n",
    "```python\n",
    "sns.set(rc={'figure.figsize':(11.7,8.27)})\n",
    "```\n",
    "\n",
    "**This only needs to be called once, and is usually defined at the top of a notebook**\n",
    "\n",
    "This also changes the default style of the plots (Notice that the plot now has a gray background and grid lines)\n",
    "\n",
    "\n",
    "Now all plots we create will be that size:\n",
    "\n",
    "```python\n",
    "c_pal = sns.cubehelix_palette(n_colors=4, start=-0.05, rot=0.1, reverse=True)\n",
    "_ = sns.barplot(x = '5_year_period', y='passengers', data=df_median, palette=c_pal)\n",
    "```"
   ]
  },
  {
   "cell_type": "code",
   "execution_count": 109,
   "metadata": {},
   "outputs": [],
   "source": [
    "sns.set(rc={'figure.figsize':(11.7,8.27)})"
   ]
  },
  {
   "cell_type": "code",
   "execution_count": 110,
   "metadata": {},
   "outputs": [
    {
     "data": {
      "image/png": "[encoded data removed]",
      "text/plain": [
       "<Figure size 842.4x595.44 with 1 Axes>"
      ]
     },
     "metadata": {},
     "output_type": "display_data"
    }
   ],
   "source": [
    "c_pal = sns.cubehelix_palette(n_colors=4, start=-0.05, rot=0.1, reverse=True)\n",
    "_ = sns.barplot(x = '5_year_period', y='passengers', data=df_median, palette=c_pal)"
   ]
  },
  {
   "cell_type": "markdown",
   "metadata": {},
   "source": [
    "#### Rotating the ticks of a plot\n",
    "\n",
    "The ticks in a plot can be rotated using matplotlibs `plt.xticks()`\n",
    "\n",
    "```python\n",
    "c_pal = sns.cubehelix_palette(n_colors=4, start=-0.05, rot=0.1, reverse=True)\n",
    "_ = sns.barplot(x = '5_year_period', y='passengers', data=df_median, palette=c_pal)\n",
    "_ = plt.xticks(rotation=45)\n",
    "```"
   ]
  },
  {
   "cell_type": "code",
   "execution_count": 111,
   "metadata": {
    "scrolled": false
   },
   "outputs": [
    {
     "data": {
      "image/png": "[encoded data removed]",
      "text/plain": [
       "<Figure size 842.4x595.44 with 1 Axes>"
      ]
     },
     "metadata": {},
     "output_type": "display_data"
    }
   ],
   "source": [
    "c_pal = sns.cubehelix_palette(n_colors=4, start=-0.05, rot=0.1, reverse=True)\n",
    "_ = sns.barplot(x = '5_year_period', y='passengers', data=df_median, palette=c_pal)\n",
    "_ = plt.xticks(rotation=45)"
   ]
  },
  {
   "cell_type": "markdown",
   "metadata": {},
   "source": [
    "#### Seaborn Default Styles\n",
    "\n",
    "Seaborn has five default styles:\n",
    "+ darkgrid\n",
    "+ whitegrid\n",
    "+ dark \n",
    "+ white \n",
    "+ ticks\n",
    "\n",
    "These can be set using the `sns.set_style()` function. This only needs to be set once if the same style is being used.\n",
    "\n",
    "```python\n",
    "sns.set_style('whitegrid')\n",
    "\n",
    "c_pal = sns.cubehelix_palette(n_colors=4, start=-0.05, rot=0.1, reverse=True)\n",
    "_ = sns.barplot(x = '5_year_period', y='passengers', data=df_median, palette=c_pal)\n",
    "_ = plt.xticks(rotation=45)\n",
    "```\n",
    "\n",
    "It is also possible to manually adjust all of the aesthetics:\n",
    "https://seaborn.pydata.org/tutorial/aesthetics.html"
   ]
  },
  {
   "cell_type": "code",
   "execution_count": 113,
   "metadata": {},
   "outputs": [
    {
     "data": {
      "image/png": "[encoded data removed]",
      "text/plain": [
       "<Figure size 842.4x595.44 with 1 Axes>"
      ]
     },
     "metadata": {},
     "output_type": "display_data"
    }
   ],
   "source": [
    "sns.set_style('white')\n",
    "\n",
    "c_pal = sns.cubehelix_palette(n_colors=4, start=-0.05, rot=0.1, reverse=True)\n",
    "_ = sns.barplot(x = '5_year_period', y='passengers', data=df_median, palette=c_pal)\n",
    "_ = plt.xticks(rotation=45)"
   ]
  },
  {
   "cell_type": "markdown",
   "metadata": {},
   "source": [
    "#### Setting plot titles\n",
    "\n",
    "Seaborn does not include functionality for changing plot and axis titles. This is achieved by using matplotlib functionality\n",
    "\n",
    "```python\n",
    "c_pal = sns.cubehelix_palette(n_colors=4, start=-0.05, rot=0.1, reverse=True)\n",
    "g = sns.barplot(x = '5_year_period', y='passengers', data=df_median, palette=c_pal)\n",
    "_ = plt.xticks(rotation=45)\n",
    "\n",
    "g.set_title('Passengers per 5 Year Periods')\n",
    "g.set_xlabel('5 Year Period')\n",
    "```"
   ]
  },
  {
   "cell_type": "code",
   "execution_count": 322,
   "metadata": {},
   "outputs": [
    {
     "data": {
      "text/plain": [
       "Text(0.5, 0, '5 Year Period')"
      ]
     },
     "execution_count": 322,
     "metadata": {},
     "output_type": "execute_result"
    },
    {
     "data": {
      "image/png": "[encoded data removed]",
      "text/plain": [
       "<Figure size 842.4x595.44 with 1 Axes>"
      ]
     },
     "metadata": {},
     "output_type": "display_data"
    }
   ],
   "source": []
  },
  {
   "cell_type": "code",
   "execution_count": null,
   "metadata": {},
   "outputs": [],
   "source": []
  }
 ],
 "metadata": {
  "kernelspec": {
   "display_name": "Python 3",
   "language": "python",
   "name": "python3"
  },
  "language_info": {
   "codemirror_mode": {
    "name": "ipython",
    "version": 3
   },
   "file_extension": ".py",
   "mimetype": "text/x-python",
   "name": "python",
   "nbconvert_exporter": "python",
   "pygments_lexer": "ipython3",
   "version": "3.6.7"
  }
 },
 "nbformat": 4,
 "nbformat_minor": 2
}
