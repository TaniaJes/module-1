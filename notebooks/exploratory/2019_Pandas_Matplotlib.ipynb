{
  "nbformat": 4,
  "nbformat_minor": 0,
  "metadata": {
    "kernelspec": {
      "display_name": "Python 3",
      "language": "python",
      "name": "python3"
    },
    "language_info": {
      "codemirror_mode": {
        "name": "ipython",
        "version": 3
      },
      "file_extension": ".py",
      "mimetype": "text/x-python",
      "name": "python",
      "nbconvert_exporter": "python",
      "pygments_lexer": "ipython3",
      "version": "3.6.7"
    },
    "colab": {
      "name": "3_Pandas_Matplotlib.ipynb",
      "provenance": []
    }
  },
  "cells": [
    {
      "cell_type": "markdown",
      "metadata": {
        "id": "c1TpQpFVnBd5",
        "colab_type": "text"
      },
      "source": [
        "# Lecture 03 - Pandas and Matplotlib (Sept 10th 2019)\n",
        "\n",
        "## The History of Pandas\n",
        "\n",
        "Pandas was created by Wes McKinney in 2008 while he was working for AQR Capital Management. He managed to convince the company to open source the project.\n",
        "\n",
        "Chang She, who also worked for AQR joined the project in 2012 and is the second major contributor.\n",
        "\n",
        "Pandas signed onto NumFOCUS, a nonprofit charity, in 2015.(https://en.wikipedia.org/wiki/Pandas_(software))\n",
        "\n",
        "A book written by Wes McKinney (Reviews indicate that the examples are not great):\n",
        "+ McKinney, Wes. Python for data analysis : data wrangling with pandas, NumPy, and IPython. Sebastopol, CA: O'Reilly Media, Inc, 2018. Print.\n",
        "\n",
        "This book covers using python for data science and includes some machine learning:\n",
        "+ Vanderplas, Jacob T. Python data science handbook : essential tools for working with data. Sebastopol, CA: O'Reilly Media, Inc, 2016. Print.\n",
        "\n",
        "There are also many excelent blog posts on pandas."
      ]
    },
    {
      "cell_type": "markdown",
      "metadata": {
        "id": "gIDJPGPwnBd6",
        "colab_type": "text"
      },
      "source": [
        "## Pandas Use Cases\n",
        "\n",
        "Pandas primary use case is for data analysis.\n",
        "It provides data structures and functionality for quickly manipulating tabular.\n",
        "Some example usage:\n",
        "  + cleaning data (removing/imputing missing values)\n",
        "  + transforming (changing the form of the dataframe)\n",
        "  + visualizing (Creating plots that summarize the data)"
      ]
    },
    {
      "cell_type": "markdown",
      "metadata": {
        "id": "y9NzdeTanBd7",
        "colab_type": "text"
      },
      "source": [
        "## Pandas has extensive documentation with examples\n",
        "If you go for a few months without coding its hard to remember the little details. If you remember the function names you can read up on them when you need them.\n",
        "\n",
        "https://pandas.pydata.org/pandas-docs/stable/\n",
        "\n",
        "I find it hard to navigate their documentation, so I Google 'pandas \\< functionality \\>' and choose the link to the pandas site.\n",
        "\n",
        "Eg:\n",
        "+ Google 'pandas merge'\n",
        "+ https://pandas.pydata.org/pandas-docs/stable/reference/api/pandas.DataFrame.merge.html"
      ]
    },
    {
      "cell_type": "markdown",
      "metadata": {
        "id": "FRs_9S32nBd8",
        "colab_type": "text"
      },
      "source": [
        "## Pandas Basics\n",
        "\n",
        "\n",
        "+ Pandas is an external Python Package\n",
        "  + This means that it is not included with the Python Standard Libraries\n",
        "  + It can be installed using conda\n",
        "    + `conda install pandas`\n",
        "  + The latest version dropped support for Python 2\n",
        "  "
      ]
    },
    {
      "cell_type": "markdown",
      "metadata": {
        "id": "NKdqkw1LnBd8",
        "colab_type": "text"
      },
      "source": [
        "### Importing Pandas\n",
        "\n",
        "In order to use the functionality provided by pandas the package will need to be imported.\n",
        "The standard practice is to name this import **pd**.\n",
        "\n",
        "```python\n",
        "import pandas as pd\n",
        "```"
      ]
    },
    {
      "cell_type": "code",
      "metadata": {
        "id": "zna_Esr8nBd9",
        "colab_type": "code",
        "colab": {}
      },
      "source": [
        "import pandas as pd"
      ],
      "execution_count": null,
      "outputs": []
    },
    {
      "cell_type": "markdown",
      "metadata": {
        "id": "EmwgBR-OnBeA",
        "colab_type": "text"
      },
      "source": [
        "### What is a dataframe?\n",
        "\n",
        "A dataframe is a collection of data where each row consists of a collection of observations.\n",
        "\n",
        "#### Creating a dataframe\n",
        "\n",
        "There are many ways to create dataframes:\n",
        "+ Coverting a dictionary to a dataframe\n",
        "    ```python\n",
        "df = pd.Dataframe.from_dict( << dict >> )\n",
        "    ```\n",
        "+ Loading the data from a csv file\n",
        "    ```python\n",
        "df = pd.read_csv( << csv_path >> )\n",
        "    ```\n",
        "+ Load the data from a url\n",
        "    ```python\n",
        "url = \"https://vincentarelbundock.github.io/Rdatasets/csv/datasets/trees.csv\"\n",
        "df = pd.read_csv(url)\n",
        "    ```"
      ]
    },
    {
      "cell_type": "markdown",
      "metadata": {
        "id": "aok0cXZnnBeA",
        "colab_type": "text"
      },
      "source": [
        "#### Loading data from a dictionary\n",
        "\n",
        "Some of these examples are taken from the pandas documentation (https://pandas.pydata.org/pandas-docs/stable/generated/pandas.DataFrame.from_dict.html#pandas.DataFrame.from_dict)"
      ]
    },
    {
      "cell_type": "markdown",
      "metadata": {
        "id": "ctRu3MuQnBeB",
        "colab_type": "text"
      },
      "source": [
        "###### By default, each item in the dictionary will represent a column\n",
        "```python\n",
        "data = {'col_1': [3, 2, 1, 0], 'col_2': ['a', 'b', 'c', 'd']}\n",
        "pd.DataFrame.from_dict(data)\n",
        "```"
      ]
    },
    {
      "cell_type": "code",
      "metadata": {
        "id": "5-05tsxCnBeB",
        "colab_type": "code",
        "colab": {}
      },
      "source": [
        ""
      ],
      "execution_count": null,
      "outputs": []
    },
    {
      "cell_type": "markdown",
      "metadata": {
        "id": "35EdzYSxnBeE",
        "colab_type": "text"
      },
      "source": [
        "###### This can be changed by changing the orient parameter to 'index' (the default is 'column')\n",
        "```python\n",
        "data = {'row_1': [3, 2, 1, 0], 'row_2': ['a', 'b', 'c', 'd']}\n",
        "pd.DataFrame.from_dict(data, orient='index')\n",
        "```"
      ]
    },
    {
      "cell_type": "code",
      "metadata": {
        "id": "RZH9M8MQnBeF",
        "colab_type": "code",
        "colab": {}
      },
      "source": [
        ""
      ],
      "execution_count": null,
      "outputs": []
    },
    {
      "cell_type": "markdown",
      "metadata": {
        "id": "6_yBAW2-nBeH",
        "colab_type": "text"
      },
      "source": [
        "###### The names of the columns can be set using the columns parameter\n",
        "```python\n",
        "data = {'row_1': [3, 2, 1, 0], 'row_2': ['a', 'b', 'c', 'd']}\n",
        "pd.DataFrame.from_dict(data, orient='index',\n",
        "                        columns=['A', 'B', 'C', 'D'])\n",
        "```"
      ]
    },
    {
      "cell_type": "code",
      "metadata": {
        "id": "6Dzc8PaQnBeH",
        "colab_type": "code",
        "colab": {}
      },
      "source": [
        ""
      ],
      "execution_count": null,
      "outputs": []
    },
    {
      "cell_type": "markdown",
      "metadata": {
        "id": "3jHpVTUPnBeN",
        "colab_type": "text"
      },
      "source": [
        "###### Alternatively you can specify the column names in the dictionary\n",
        "```python\n",
        "data = {\n",
        "    'Tree1': {'girth': 8.3, 'height': 70, 'volume': 10.3},\n",
        "    'Tree2': {'girth': 8.6, 'height': 65, 'volume': 10.3},\n",
        "    'Tree3': {'girth': 8.8, 'height': 63, 'volume': 10.2}\n",
        "}\n",
        "pd.DataFrame.from_dict(data, orient='index')\n",
        "```"
      ]
    },
    {
      "cell_type": "code",
      "metadata": {
        "id": "mqQwKoAbnBeN",
        "colab_type": "code",
        "colab": {}
      },
      "source": [
        ""
      ],
      "execution_count": null,
      "outputs": []
    },
    {
      "cell_type": "markdown",
      "metadata": {
        "id": "jbL8J2RcnBeQ",
        "colab_type": "text"
      },
      "source": [
        "**Note** Each row needs to have a unique identifier, in the above example this is represented by '**Tree#**'. Generally this is represented by an integer ranging from 0->n. \n",
        "+ In the above example we can reset the index to be the integers using the reset_index() function.\n",
        "```python\n",
        "data = {\n",
        "    'Tree1': {'girth': 8.3, 'height': 70, 'volume': 10.3},\n",
        "    'Tree2': {'girth': 8.6, 'height': 65, 'volume': 10.3},\n",
        "    'Tree3': {'girth': 8.8, 'height': 63, 'volume': 10.2}\n",
        "}\n",
        "pd.DataFrame.from_dict(data, orient='index').reset_index()\n",
        "```"
      ]
    },
    {
      "cell_type": "code",
      "metadata": {
        "id": "1bn7LJA_nBeQ",
        "colab_type": "code",
        "colab": {}
      },
      "source": [
        ""
      ],
      "execution_count": null,
      "outputs": []
    },
    {
      "cell_type": "markdown",
      "metadata": {
        "id": "cuNRfTbQnBeS",
        "colab_type": "text"
      },
      "source": [
        "###### Loading Data from a URL\n",
        "```python\n",
        "url = \"https://vincentarelbundock.github.io/Rdatasets/csv/datasets/trees.csv\"\n",
        "df = pd.read_csv(url)\n",
        "df\n",
        "```"
      ]
    },
    {
      "cell_type": "code",
      "metadata": {
        "id": "lYPG8hvYnBeT",
        "colab_type": "code",
        "colab": {}
      },
      "source": [
        ""
      ],
      "execution_count": null,
      "outputs": []
    },
    {
      "cell_type": "markdown",
      "metadata": {
        "id": "t1-LFj4bnBeV",
        "colab_type": "text"
      },
      "source": [
        "### Accessing values in the dataframe\n",
        "```python\n",
        "data = {\n",
        "    'Tree1': {'girth': 8.3, 'height': 70, 'volume': 10.3},\n",
        "    'Tree2': {'girth': 8.6, 'height': 65, 'volume': 10.3},\n",
        "    'Tree3': {'girth': 8.8, 'height': 63, 'volume': 10.2}\n",
        "}\n",
        "df = pd.DataFrame.from_dict(data, orient='index')\n",
        "```"
      ]
    },
    {
      "cell_type": "code",
      "metadata": {
        "id": "2_Ye8zxinBeV",
        "colab_type": "code",
        "colab": {}
      },
      "source": [
        "data = {\n",
        "    'Tree1': {'girth': 8.3, 'height': 70, 'volume': 10.3},\n",
        "    'Tree2': {'girth': 8.6, 'height': 65, 'volume': 10.3},\n",
        "    'Tree3': {'girth': 8.8, 'height': 63, 'volume': 10.2}\n",
        "}\n",
        "df = pd.DataFrame.from_dict(data, orient='index')\n",
        "df"
      ],
      "execution_count": null,
      "outputs": []
    },
    {
      "cell_type": "markdown",
      "metadata": {
        "id": "vv8i5B9gnBeX",
        "colab_type": "text"
      },
      "source": [
        "#### Columns\n",
        "\n",
        "##### Getting Column Names\n",
        "\n",
        "+ To get a list of column names you can covert the dataframe into a list\n",
        "```python\n",
        "list(df) # returns a list of column names\n",
        "# or\n",
        "df.columns.values # returns a numpy array of column names\n",
        "```\n",
        "\n",
        "As with most of programming there are multiple methods of doing the same thing.\n",
        "It is generally preferable to use the option that is easier to understand. In this case `df.columns.values` as this explicitly states what values are being extracted\n"
      ]
    },
    {
      "cell_type": "code",
      "metadata": {
        "id": "lHWR4JrXnBeY",
        "colab_type": "code",
        "colab": {}
      },
      "source": [
        ""
      ],
      "execution_count": null,
      "outputs": []
    },
    {
      "cell_type": "markdown",
      "metadata": {
        "id": "SPCumsRgnBea",
        "colab_type": "text"
      },
      "source": [
        "##### Pulling a column out of a dataframe\n",
        "\n",
        "+ Access columns using the column name in square brackets to return a series containing the data.\n",
        "```python\n",
        "df[\"column_name\"]\n",
        "```\n",
        "\n",
        "+ A series is a 1D array of id, value pairs"
      ]
    },
    {
      "cell_type": "code",
      "metadata": {
        "id": "xS7xvGFinBeb",
        "colab_type": "code",
        "colab": {}
      },
      "source": [
        ""
      ],
      "execution_count": null,
      "outputs": []
    },
    {
      "cell_type": "markdown",
      "metadata": {
        "id": "2kgA8A1snBed",
        "colab_type": "text"
      },
      "source": [
        "##### Subsetting a Dataframe using a List of Columns\n",
        "\n",
        "Use a list of column names to extract those columns as a dataframe\n",
        "\n",
        "```python\n",
        "df[[\"column_1\", \"column_2\"]]\n",
        "```\n",
        "\n",
        "A useful way to remember this is 1D indexing \\[ \\] returns a series and 2D indexing \\[\\[ \\]\\] returns a dataframe."
      ]
    },
    {
      "cell_type": "code",
      "metadata": {
        "id": "Degg-acnnBee",
        "colab_type": "code",
        "colab": {}
      },
      "source": [
        ""
      ],
      "execution_count": null,
      "outputs": []
    },
    {
      "cell_type": "markdown",
      "metadata": {
        "id": "vWhD_tjhnBeg",
        "colab_type": "text"
      },
      "source": [
        "#### Example\n",
        "Extracting the girth and height from the dataframe of tree measurements.\n",
        "\n",
        "```python\n",
        "df[[\"girth\", \"height\"]]\n",
        "```\n",
        "\n",
        "Extracting the volume as a series\n",
        "```python\n",
        "df[\"volume\"]\n",
        "```\n",
        "\n",
        "Extracting the volume as a dataframe\n",
        "```python\n",
        "df[[\"volume\"]]\n",
        "```"
      ]
    },
    {
      "cell_type": "code",
      "metadata": {
        "id": "4DQRlxYOnBeg",
        "colab_type": "code",
        "colab": {}
      },
      "source": [
        "df[\"volume\"]"
      ],
      "execution_count": null,
      "outputs": []
    },
    {
      "cell_type": "markdown",
      "metadata": {
        "id": "W1x8qh3JnBej",
        "colab_type": "text"
      },
      "source": [
        "### Pandas and Numpy\n",
        "\n",
        "+ A package for scientific computing\n",
        "+ A more powerful version of lists\n",
        "+ All of the methods are optimized to run fast\n",
        "+ Great for linear algebra, statistical analysis\n",
        "\n",
        "Pandas makes use of a lot of Numpy functionality under the hood.\n",
        "\n",
        "\n",
        "I have added a previous jupyter notebook I presented on Numpy to the topic 1 directory, this gives a brief introduction to numpy."
      ]
    },
    {
      "cell_type": "markdown",
      "metadata": {
        "id": "didz5hzdnBek",
        "colab_type": "text"
      },
      "source": [
        "#### Converting Series and Dataframe types into Arrays\n",
        "\n",
        "The `.values` function will return a numpy array containing the data.\n",
        "\n",
        "For series type data the array will be 1-dimensional and for dataframes the array will be 2-dimensional.\n",
        "\n",
        "```python\n",
        "df[\"volume\"].values\n",
        "```\n",
        "\n",
        "```python\n",
        "df[[\"girth\", \"height\"]].values\n",
        "```"
      ]
    },
    {
      "cell_type": "code",
      "metadata": {
        "id": "hG0aET4wnBek",
        "colab_type": "code",
        "colab": {}
      },
      "source": [
        "df[[\"girth\", \"height\"]].values"
      ],
      "execution_count": null,
      "outputs": []
    },
    {
      "cell_type": "markdown",
      "metadata": {
        "id": "J7rBk6J9nBen",
        "colab_type": "text"
      },
      "source": [
        "#### Accessing rows from the dataframe\n",
        "\n",
        "Rows are accessed using either **loc** or **iloc**\n",
        "\n",
        "###### iloc\n",
        "+ This will access rows depending on their integer index\n",
        "+ The first row will have index 0\n",
        "+ Then next will have index 1, ...\n",
        "+ To extract the first row you would use the following command\n",
        "    + This will return a series containing the information from that row\n",
        "```python\n",
        "df.iloc[0]\n",
        "```\n",
        "+ To extract multiple rows you can pass a list of indices\n",
        "    + This will return a dataframe containing the specified rows\n",
        "    + The dataframe will be in the order of the indicies\n",
        "      + \\[0, 1, 2\\] - original order\n",
        "      + \\[2, 1, 0\\] - reversed\n",
        "      + \\[0, 0, 1\\] - repeats\n",
        "      \n",
        "```python\n",
        "df.iloc[[0, 1, 2]]\n",
        "```"
      ]
    },
    {
      "cell_type": "code",
      "metadata": {
        "id": "wn2XQLi7nBen",
        "colab_type": "code",
        "colab": {}
      },
      "source": [
        ""
      ],
      "execution_count": null,
      "outputs": []
    },
    {
      "cell_type": "markdown",
      "metadata": {
        "id": "_F51xDj9nBeq",
        "colab_type": "text"
      },
      "source": [
        "###### loc\n",
        "\n",
        "Various arguments will work with loc to extract rows from a dataframe\n",
        "\n",
        "+ A single index label\n",
        "    + Returns a series for that specific **row**\n",
        "    ```python\n",
        "df.loc[\"Tree2\"]\n",
        "    ```\n",
        "+ A list of index labels\n",
        "    + Returns a dataframe containing those **rows**\n",
        "    ```python\n",
        "df.loc[[\"Tree1\", \"Tree3\"]]\n",
        "    ```\n",
        "+ A boolean list\n",
        "    + Returns a dataframe for **rows** that are labeled true\n",
        "      + The number of booleans should match the number of rows\n",
        "      + row 0 - False\n",
        "      + row 1 - True\n",
        "      + row 2 - False\n",
        "    ```python\n",
        "df.loc[[False, True, False]]\n",
        "    ```"
      ]
    },
    {
      "cell_type": "code",
      "metadata": {
        "id": "xyizcaVXnBeq",
        "colab_type": "code",
        "colab": {}
      },
      "source": [
        "df.loc[[False, True, False]]"
      ],
      "execution_count": null,
      "outputs": []
    },
    {
      "cell_type": "markdown",
      "metadata": {
        "id": "FiQVJxY7nBes",
        "colab_type": "text"
      },
      "source": [
        "#### Extracting data by value\n",
        "\n",
        "Comparison operators can be applied to series objects (which are numpy lists)\n",
        "For each value it will return either True or False depending on the comparison\n",
        "\n",
        "**eg**\n",
        "```python\n",
        "pd.Series([1,1,1,5,5,5]) > 3\n",
        "> [False, False, False, True, True, True]\n",
        "```\n",
        "\n",
        "This is convenient as **.loc** can use an array of booleans to extract rows.\n",
        "\n",
        "\n",
        "This allows for specific rows to be extracted from the dataframe depending on their value\n"
      ]
    },
    {
      "cell_type": "code",
      "metadata": {
        "id": "3MNGgrg4nBes",
        "colab_type": "code",
        "colab": {}
      },
      "source": [
        "pd.Series([1,1,1,5,5,5]) > 4"
      ],
      "execution_count": null,
      "outputs": []
    },
    {
      "cell_type": "markdown",
      "metadata": {
        "id": "Zy0WyU53nBeu",
        "colab_type": "text"
      },
      "source": [
        "+ Trees that are shorter than 70\n",
        "    + df[\"height\"] will return a series\n",
        "    ```python\n",
        "    df[\"height\"]\n",
        "    ```\n",
        "    + df[\"height\"] < 70 will return a list of booleans\n",
        "        + ```python\n",
        "          df[\"height\"] < 70\n",
        "          ```\n",
        "        + ```python\n",
        "        > [False, True, True]\n",
        "        ```\n",
        "    \n",
        "    + We can then use this to extract those rows from the dataframe\n",
        "    ```python\n",
        "df.loc[df[\"height\"] < 70]\n",
        "    ```\n",
        "    \n",
        "\n",
        "|name|girth|\theight|\tvolume|\n",
        "|-    |-      |-      |-|\n",
        "|Tree1|\t8.3|\t70|\t10.3|\n",
        "|Tree2|\t8.6|\t65|\t10.3|\n",
        "|Tree3|\t8.8|\t63|\t10.2|"
      ]
    },
    {
      "cell_type": "code",
      "metadata": {
        "id": "l8MDEPx6nBeu",
        "colab_type": "code",
        "colab": {}
      },
      "source": [
        ""
      ],
      "execution_count": null,
      "outputs": []
    },
    {
      "cell_type": "markdown",
      "metadata": {
        "id": "XTQoYMI_nBew",
        "colab_type": "text"
      },
      "source": [
        "##### How would you get the rows where the volume is equal to 10.3?"
      ]
    },
    {
      "cell_type": "code",
      "metadata": {
        "id": "AOapoPm2nBex",
        "colab_type": "code",
        "colab": {}
      },
      "source": [
        ""
      ],
      "execution_count": null,
      "outputs": []
    },
    {
      "cell_type": "markdown",
      "metadata": {
        "id": "8Z6NM-dKnBey",
        "colab_type": "text"
      },
      "source": [
        "##### Combining conditions\n",
        "\n",
        "Numpy has various bitwise operations which work on boolean arrays (bitwise operations work on binary sequences, a boolean list is a binary sequence)\n",
        "```python\n",
        "import numpy as np\n",
        "```\n",
        "+ **&**\n",
        "    + This is equivilant to the **and** logical operator or intersection set operator\n",
        "    + The resulting list will only be true where both conditions are true\n",
        "    ```python\n",
        "l1 = np.array([True, False])\n",
        "l2 = np.array([True, True])\n",
        "l1 & l2\n",
        "    ```\n",
        "+ |\n",
        "    + This is equivilant to the **or** logical operator or union set operator\n",
        "    + The resulting list will be true where any of the conditions is true\n",
        "    ```python\n",
        "l1 = np.array([True, False])\n",
        "l2 = np.array([True, True])\n",
        "l1 | l2\n",
        "    ```\n",
        "+ ~\n",
        "    + This is the **negation** operator and is equivilant to the **not** logical operator\n",
        "    + The resulting True/False values will be flipped\n",
        "        ```python\n",
        "l1 = np.array([True, False])\n",
        "~l1\n",
        "    ```\n",
        "    \n",
        "**When combining multiple conditions they should be put in separate parenthesis**\n",
        "\n",
        "This is to avoid ambiguity. The list of booleans for each condition is calculated then the results are compared.\n",
        "\n",
        "```python\n",
        "l = np.array([1,1,1, 10,10,10])\n",
        "# l % 2 == 0 & l < 10\n",
        "(l % 2 == 0) & (l < 10)\n",
        "```"
      ]
    },
    {
      "cell_type": "code",
      "metadata": {
        "id": "lnvKTxDfnBez",
        "colab_type": "code",
        "colab": {}
      },
      "source": [
        ""
      ],
      "execution_count": null,
      "outputs": []
    },
    {
      "cell_type": "markdown",
      "metadata": {
        "id": "4jYusECNnBe1",
        "colab_type": "text"
      },
      "source": [
        "###### Using this how can we extract all rows with height < 70 and volume equal to 10.3?"
      ]
    },
    {
      "cell_type": "code",
      "metadata": {
        "id": "LR1JWoKSnBe1",
        "colab_type": "code",
        "colab": {}
      },
      "source": [
        ""
      ],
      "execution_count": null,
      "outputs": []
    },
    {
      "cell_type": "markdown",
      "metadata": {
        "id": "5_1KBrX3nBe4",
        "colab_type": "text"
      },
      "source": [
        "###### Using this how can we extract all rows except with height < 70 and volume equal to 10.3?\n"
      ]
    },
    {
      "cell_type": "code",
      "metadata": {
        "id": "HMiZXos2nBe4",
        "colab_type": "code",
        "colab": {}
      },
      "source": [
        ""
      ],
      "execution_count": null,
      "outputs": []
    },
    {
      "cell_type": "markdown",
      "metadata": {
        "id": "n4DxX8jVnBe6",
        "colab_type": "text"
      },
      "source": [
        "# Pandas Limitations\n",
        "+ More than 2 dimensional data\n",
        "  + Split the data into multple dataframes\n",
        "+ Large datasets (< 100Gb)\n",
        "  + Pandas works best with datasets < 1Gb\n",
        "  + There are workarounds\n",
        "    + Load the file in chunks\n",
        "  + Though it is probably better to use alternate tools"
      ]
    },
    {
      "cell_type": "markdown",
      "metadata": {
        "id": "tIXqcVYMnBe7",
        "colab_type": "text"
      },
      "source": [
        "## Matplotlib\n",
        "\n",
        "Matplotlib is a plotting library for the Python programming language and its numerical mathematics extension NumPy.\n",
        "\n",
        "Matplotlib was originally written by John D. Hunter, has an active development community, and is distributed under a BSD-style license. Michael Droettboom was nominated as matplotlib's lead developer shortly before John Hunter's death in August 2012, and further joined by Thomas Caswell.\n",
        "\n",
        "As of 23 June 2017, matplotlib 2.0.x supports Python versions 2.7 through 3.6. Python3 support started with Matplotlib 1.2. Matplotlib 1.4 is the last version to support Python 2.6.\n",
        "\n",
        "Matplotlib has pledged to not support Python 2 past 2020 by signing the Python 3 Statement.\n",
        "\n",
        "Source: https://en.wikipedia.org/wiki/Matplotlib"
      ]
    },
    {
      "cell_type": "markdown",
      "metadata": {
        "id": "LWBDf2UGnBe7",
        "colab_type": "text"
      },
      "source": [
        "### What can Matplotlib Plot\n",
        "\n",
        "Short answer: Everything\n",
        "\n",
        "Longer answer: Some plots will require more work than other."
      ]
    },
    {
      "cell_type": "markdown",
      "metadata": {
        "id": "B5Tl_k_mnBe8",
        "colab_type": "text"
      },
      "source": [
        "### Why use Matplotlib\n",
        "\n",
        "Matplotlib is extremely customizable. They provide a framework for generating plots, after the plots have been generated every aspect of the figure can be customized.\n",
        "\n",
        "Due to this flexibility, many other packages extend Matplotlib such as Seaborn."
      ]
    },
    {
      "cell_type": "markdown",
      "metadata": {
        "id": "ubVuT5QznBe8",
        "colab_type": "text"
      },
      "source": [
        "### Installing Matplotlib\n",
        "Matplotlib is not included in the standard python packages so it will need to be installed.\n",
        "\n",
        "```bash\n",
        "conda install matplotlib\n",
        "pip install matplotlib\n",
        "```\n",
        "\n",
        "### Importing Matplotlib\n",
        "Matplotlib is not imported as a whole, instead only the pyplot sub-module is imported. This module contains commands for manipulating figures. It is standard practice to name this import **plt**.\n",
        "\n",
        "```python\n",
        "import matplotlib.pyplot as plt\n",
        "```\n",
        "\n",
        "### Backends and Renderes\n",
        "Matplotlib uses different backends for rendering figures. The backend can be changed for different circumstances, but generally can be left with the default. The backend determines which application matplotlib will open to view the figures.\n",
        "\n",
        "The renderer determines the format of the rendered images eg: svg, png, ps, pdf etc...\n",
        "\n",
        "When drawing figures within a jupyter notebook a magic function needs to be called so that the figures will appear in the notebook.\n",
        "\n",
        "```python\n",
        "%matplotlib inline\n",
        "```\n",
        "\n",
        "This is generally called at the end of the import cell at the top of the notebook.\n",
        "I will also import numpy as we will make use of it throught this section. We will also need to set the seed before generating random numbers so that our random numbers will be the same.\n",
        "\n",
        "```python\n",
        "import matplotlib.pyplot as plt\n",
        "import numpy as np\n",
        "\n",
        "%matplotlib inline\n",
        "```"
      ]
    },
    {
      "cell_type": "code",
      "metadata": {
        "id": "3TVv5yzRnBe8",
        "colab_type": "code",
        "colab": {}
      },
      "source": [
        ""
      ],
      "execution_count": null,
      "outputs": []
    },
    {
      "cell_type": "markdown",
      "metadata": {
        "id": "pjzEBVmqnBe-",
        "colab_type": "text"
      },
      "source": [
        "### A simple plot\n",
        "\n",
        "We can use numpy to generate some a 1D list of random values and visualize this list.\n",
        "\n",
        "```python\n",
        "np.random.seed(123454321)\n",
        "values = np.random.normal(0, 1, size=400)\n",
        "plt.plot(values)\n",
        "```"
      ]
    },
    {
      "cell_type": "code",
      "metadata": {
        "scrolled": true,
        "id": "l6JarGpwnBe_",
        "colab_type": "code",
        "colab": {}
      },
      "source": [
        ""
      ],
      "execution_count": null,
      "outputs": []
    },
    {
      "cell_type": "markdown",
      "metadata": {
        "id": "5jWUwWV-nBfD",
        "colab_type": "text"
      },
      "source": [
        "The `plot` function will always generate a **line** plot. If a 1D list is provided, the values within the list will determine the y coordinate and the index of the value will determine the x coordinate.\n",
        "\n",
        "Why does the output show something simlar to this before the plot?\n",
        "+ \\[<matplotlib.lines.Line2D at 0x115a04438>\\]\n",
        "\n",
        "The reason is that every function in python returns something, plot returns a list of lines.\n",
        "When working in Jupyter the output from the last function/variable is always printed in the cell. In this case that output is the result from running plt.plot(values).\n",
        "\n",
        "To fix this we need to save the result of that function. In python it is a standard practice to save unused values as an underscore.\n",
        "\n",
        "```python\n",
        "_ = plt.plot(values)\n",
        "```"
      ]
    },
    {
      "cell_type": "code",
      "metadata": {
        "id": "rvu5fBVrnBfD",
        "colab_type": "code",
        "colab": {}
      },
      "source": [
        ""
      ],
      "execution_count": null,
      "outputs": []
    },
    {
      "cell_type": "markdown",
      "metadata": {
        "id": "-p510zA5nBfF",
        "colab_type": "text"
      },
      "source": [
        "### Providing x coordinates for the list of values\n",
        "\n",
        "As previously stated, if a list of coordinates is not provided, the index of each value will act as the x-coordinate.\n",
        "\n",
        "If you would like to map the values to x coordinates then a second list must be provided to the plot function with the same number of elements as the list of values.\n",
        "\n",
        "```python\n",
        "plt.plot(x_list, y_list)\n",
        "```\n",
        "\n",
        "If the lists are not of equal length then a **ValueError** will be thrown.\n",
        "\n",
        "`ValueError: x and y must have same first dimension, but have shapes (399,) and (400,)`\n",
        "\n",
        "#### What does the following line of code do?\n",
        "```python\n",
        "_ = plt.plot(np.linspace(-5, 5, len(values)), values)\n",
        "```"
      ]
    },
    {
      "cell_type": "code",
      "metadata": {
        "id": "Y17CtPcNnBfF",
        "colab_type": "code",
        "colab": {}
      },
      "source": [
        ""
      ],
      "execution_count": null,
      "outputs": []
    },
    {
      "cell_type": "markdown",
      "metadata": {
        "id": "VAlT0fJjnBfH",
        "colab_type": "text"
      },
      "source": [
        "### Adding additional lines to the plot\n",
        "\n",
        "Additional lines can be plotted by calling the `plt.plot()` function again with the list of new values.\n",
        "\n",
        "```python\n",
        "np.random.seed(123454321)\n",
        "line_1 = np.random.normal(0, 1, size=400)\n",
        "line_2 = np.random.normal(50, 10, size=400)\n",
        "\n",
        "_ = plt.plot(line_1)\n",
        "_ = plt.plot(line_2)\n",
        "```"
      ]
    },
    {
      "cell_type": "code",
      "metadata": {
        "id": "O0p5RPlAnBfH",
        "colab_type": "code",
        "colab": {}
      },
      "source": [
        ""
      ],
      "execution_count": null,
      "outputs": []
    },
    {
      "cell_type": "markdown",
      "metadata": {
        "id": "w9mH8LM5nBfJ",
        "colab_type": "text"
      },
      "source": [
        "### Generating separate plots within the same code block\n",
        "\n",
        "What if instead of showing both lines on the same plot we would like to show two separate plots?\n",
        "\n",
        "To fix this we can use the `plt.show()` function. This function will take the currently plot and render it. Once it has been rendered the plot is cleared so that another figure can be rendered.\n",
        "\n",
        "```python\n",
        "np.random.seed(123454321)\n",
        "line_1 = np.random.normal(0, 1, size=400)\n",
        "line_2 = np.random.normal(50, 10, size=400)\n",
        "\n",
        "_ = plt.plot(line_1)\n",
        "plt.show()\n",
        "_ = plt.plot(line_2)\n",
        "plt.show()\n",
        "```"
      ]
    },
    {
      "cell_type": "code",
      "metadata": {
        "id": "BW-O45TXnBfK",
        "colab_type": "code",
        "colab": {}
      },
      "source": [
        ""
      ],
      "execution_count": null,
      "outputs": []
    },
    {
      "cell_type": "markdown",
      "metadata": {
        "id": "4QOYvyBgnBfL",
        "colab_type": "text"
      },
      "source": [
        "#### Simplifying the previous example\n",
        "\n",
        "The two separate lines can be stored in a single 2D variable.\n",
        "```python\n",
        "# [ \n",
        "#    [a_0, b_0], \n",
        "#    [a_1, b_1],\n",
        "#    [a_2, b_2],\n",
        "#      ..., \n",
        "#    [a_n, b_n]\n",
        "# ]\n",
        "```\n",
        "\n",
        "Numpy can normally generate multidimensional data using tuples to separate parameters.\n",
        "\n",
        "In this example the **size** argument is important as we gave 2D tuples, so the size needs to be 2D.\n",
        "\n",
        "```python\n",
        "np.random.seed(123454321)\n",
        "# sample 400 points from two different distributions\n",
        "# dist_1: mean=0 std=1\n",
        "# dist_2: mean=50 std=10\n",
        "points = np.random.normal((0,50), (1,10), size=(400,2, 2))\n",
        "points\n",
        "```\n",
        "\n",
        "And then to plot those points we can pass the single variable\n",
        "```python\n",
        "_ = plt.plot(points)\n",
        "```"
      ]
    },
    {
      "cell_type": "code",
      "metadata": {
        "id": "ipCE90V3nBfM",
        "colab_type": "code",
        "colab": {}
      },
      "source": [
        ""
      ],
      "execution_count": null,
      "outputs": []
    },
    {
      "cell_type": "markdown",
      "metadata": {
        "id": "c6ECSI_nnBfO",
        "colab_type": "text"
      },
      "source": [
        "#### Scatter plots & Numpy indexing\n",
        "\n",
        "We could think about the points array as being x, y coordinates for plotting a scatter plot.\n",
        "\n",
        "Unfortunately if we try to plot the points we get an error due to the scatter function requiring two arguments.\n",
        "\n",
        "```python\n",
        "plt.scatter(points)\n",
        "```"
      ]
    },
    {
      "cell_type": "code",
      "metadata": {
        "id": "I_hC3inInBfO",
        "colab_type": "code",
        "colab": {}
      },
      "source": [
        ""
      ],
      "execution_count": null,
      "outputs": []
    },
    {
      "cell_type": "markdown",
      "metadata": {
        "id": "67BrREXanBfQ",
        "colab_type": "text"
      },
      "source": [
        "To correct this we can use numpys indexing to pull out the first and second columns separately.\n",
        "\n",
        "The general format for indexing is:\n",
        "+ **array[dim_1, dim_2, dim_3, ..., dim_n]**\n",
        "+ The format for each dimension follow this format\n",
        "  + **start:end:step**\n",
        "+ These can be combined like this:\n",
        "  + **array[start:end:step, start:end:step, ..., start:end:step]**\n",
        "  \n",
        "So given a 2D array here are some indexing examples\n",
        "```python\n",
        "lst = np.array(\n",
        "    [\n",
        "        [1, 2, 3],\n",
        "        [4, 5, 6],\n",
        "        [7, 8, 9],\n",
        "    ]\n",
        ")\n",
        "```\n",
        "\n",
        "##### Pulling out the first row\n",
        "```python\n",
        "lst[0]\n",
        "```\n",
        "\n",
        "##### Pulling out the last row\n",
        "```python\n",
        "lst[-1]\n",
        "```\n",
        "\n",
        "##### Pulling out the first column (This returns a row vector)\n",
        "```python\n",
        "lst[:, 0]\n",
        "```\n",
        "\n",
        "##### Pulling out the first column (This returns a column vector)\n",
        "```python\n",
        "lst[:, 0:1]\n",
        "```\n",
        "\n",
        "**Just like regular lists, a single index drops a single dimension, using ranges maintains dimensions.**"
      ]
    },
    {
      "cell_type": "markdown",
      "metadata": {
        "id": "nE3sg2-cnBfQ",
        "colab_type": "text"
      },
      "source": [
        "### Example 2: 2D - rgb image\n",
        "\n",
        "#### Generate random image data (channels, width, height)\n",
        "We can generate random noise using the `np.random.randint()` function.\n",
        "Color images generally have 3 or 4 channels depending on if they are transparent or not.\n",
        "+ They will always have red, green, and blue value for each x, y coordinate.\n",
        "+ These values range from 0-255\n",
        "+ 255 is the largest number that can be made from 8 bits\n",
        "  + 11111111\n",
        "  + 128 + 64 + 32 + 16 + 8 + 4 + 2 + 1\n",
        "\n",
        "##### Lets create some random data\n",
        "```python\n",
        "width = 10\n",
        "height = 10\n",
        "channels = 3\n",
        "img = np.random.randint(0, 255, (channels, width, height), dtype=np.uint8)\n",
        "print(img)\n",
        "```"
      ]
    },
    {
      "cell_type": "code",
      "metadata": {
        "id": "bPu7Vq9YnBfQ",
        "colab_type": "code",
        "colab": {},
        "outputId": "1d506dc0-ff7c-4b9c-f014-60ab7c7f546e"
      },
      "source": [
        "width = 10\n",
        "height = 10\n",
        "channels = 3\n",
        "img = np.random.randint(0, 255, (channels, width, height), dtype=np.uint8)\n",
        "print(img)"
      ],
      "execution_count": null,
      "outputs": [
        {
          "output_type": "stream",
          "text": [
            "[[[158 218  41  40 120 244 209 113 126 203]\n",
            "  [ 37 195 122  74  97  31 125  84 251 175]\n",
            "  [221 251 180 134 174 120 111 103  25  65]\n",
            "  [251 206 133  31 239 149 243 222  62  76]\n",
            "  [152 186 233 209  31   7 119 106  84 108]\n",
            "  [193  66 246  14 172 249 166  79 165 173]\n",
            "  [240  20 217 175 124 101 222 242  85  11]\n",
            "  [189 157  27   6   2  32 157 159 253 100]\n",
            "  [ 54 195 159 128 103 153  58 104  71 210]\n",
            "  [249  62 205 140 231  55 212  74 125 195]]\n",
            "\n",
            " [[199 148  53  49  91   3  76 112 168 117]\n",
            "  [170  69 184  86 203  34  22 173 194 129]\n",
            "  [ 45 107  15  44  14 161  25 244  85  15]\n",
            "  [135  11 237 122  19 102 109 250 217 154]\n",
            "  [220 202   7  11 205 233  93  91 252  17]\n",
            "  [ 63 172 247 205  40  10  33  18 209 201]\n",
            "  [151 152 226  78  59 205  34  24 185 205]\n",
            "  [  9  55 239   3 158 246 188 189 253 248]\n",
            "  [182 214 214 204  52 164 121 189  22 232]\n",
            "  [114  27  26 111 143  99 178  34 171  94]]\n",
            "\n",
            " [[ 46 126  63 113  93   7  62 107  37  83]\n",
            "  [170  96 109 229 102  17  85 192 129 192]\n",
            "  [229  79  49  42  61 115 102 203 166 241]\n",
            "  [146 193  52 239 200 227  53 238 106 124]\n",
            "  [ 33 120 186 176 119 125  90  69 146 158]\n",
            "  [163  25 168 204 213 108  67 150 192 211]\n",
            "  [  0 245  18 155 196 197 132 236 140 126]\n",
            "  [214  65 161 116  86 183 180  14  63 194]\n",
            "  [105 181 195  35 198 212 121 234 253 209]\n",
            "  [ 33 182 229  87 165 222  11 182 231  42]]]\n"
          ],
          "name": "stdout"
        }
      ]
    },
    {
      "cell_type": "markdown",
      "metadata": {
        "id": "ddaa3Q4qnBfT",
        "colab_type": "text"
      },
      "source": [
        "#### Viewing images with Matplotlib\n",
        "\n",
        "Pyplot has a specific function for viewing images called `imshow()`\n",
        "\n",
        "If we try to plug our image into imshow we will get an error.\n",
        "+ imshow expects a matrix of shape (width, height, channels)\n",
        "+ Our img is of the shape (channels, width, height)\n",
        "\n",
        "To fix this we need to rearrange the order of our dimensions\n",
        "\n",
        "+ `img.shape` -> (1, 10, 10)\n",
        "+ 'img = img.transpose(1, 2, 0).shape' -> (10, 10, 1)\n",
        "\n",
        "#### Plotting the data:\n",
        "```python\n",
        "img = img.transpose(1, 2, 0)\n",
        "plt.imshow(img)\n",
        "```"
      ]
    },
    {
      "cell_type": "code",
      "metadata": {
        "id": "Bjur4IdvnBfT",
        "colab_type": "code",
        "colab": {},
        "outputId": "d6a41ce1-542a-4f86-f84c-6b1c1a92f20f"
      },
      "source": [
        ""
      ],
      "execution_count": null,
      "outputs": [
        {
          "output_type": "execute_result",
          "data": {
            "text/plain": [
              "<matplotlib.image.AxesImage at 0x1179126a0>"
            ]
          },
          "metadata": {
            "tags": []
          },
          "execution_count": 98
        },
        {
          "output_type": "display_data",
          "data": {
            "image/png": "[encoded data removed]",
            "text/plain": [
              "<Figure size 432x288 with 1 Axes>"
            ]
          },
          "metadata": {
            "tags": [],
            "needs_background": "light"
          }
        }
      ]
    },
    {
      "cell_type": "markdown",
      "metadata": {
        "id": "nyvYsUBCnBfW",
        "colab_type": "text"
      },
      "source": [
        "#### Plotting a single channel\n",
        "\n",
        "We can use indexing to plot only a single channel from the image\n",
        "\n",
        "```python\n",
        "plt.imshow(img[:,:,0])\n",
        "```\n"
      ]
    },
    {
      "cell_type": "markdown",
      "metadata": {
        "id": "gpq1VU4AnBfW",
        "colab_type": "text"
      },
      "source": [
        "### Next time:\n",
        "\n",
        "+ Advanced Pandas\n",
        "  + Merge\n",
        "  + Groupby\n",
        "  + Apply\n",
        "  + Agg\n",
        "  + Pivot\n",
        "  + Melt\n",
        "+ Plotting with Seaborn\n",
        "+ Customizing Plots\n",
        "+ Subplots"
      ]
    }
  ]
}