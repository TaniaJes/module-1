{
  "nbformat": 4,
  "nbformat_minor": 0,
  "metadata": {
    "colab": {
      "name": "Pandas_Basics_Practical_09152020",
      "provenance": [],
      "private_outputs": true,
      "collapsed_sections": []
    },
    "kernelspec": {
      "name": "python3",
      "display_name": "Python 3"
    }
  },
  "cells": [
    {
      "cell_type": "markdown",
      "metadata": {
        "id": "FikfX_s7KehK",
        "colab_type": "text"
      },
      "source": [
        "# Pandas Basics Practical (09 / 15 / 2020)\n",
        "\n",
        "Steps:\n",
        "1. Import numpy and pandas\n",
        "2. Load the DataFrame (`pd.read_csv()`)\n",
        "  - print the dimensions of the df `df.shape`\n",
        "3. Clean the DataFrame\n",
        "  - Set the dtype for columns (`.astype()`)\n",
        "    - Numeric Types\n",
        "    - Date Times\n",
        "  - Drop columns that only have null values (`.isnull()`)\n",
        "  - Set the index\n",
        "    - Check whether the 'Province_State' is unique (`.values_counts()`)\n",
        "    - If so, use this column as the index (`.set_index()`)\n",
        "4. Run some simple operations\n",
        " 1. Extract a column from the DataFrame (`[ ]` or `.loc[]`)\n",
        " 2. Extract a row from the DataFrame (`.loc[]` and `.iloc[]`)\n",
        " 3. Subset the DataFrame using several rows / columns (`.loc[]`)\n",
        " 4. Find the State with the most recoveries\n",
        "    1. Find the row with the max (`.max()`)\n",
        "    2. Use `.loc` to extract that row\n",
        " 5. Find the states within the first quartile for 'Active' cases\n",
        "    1. Use `.quartile()` to find the first quartile range\n",
        "    2. Use `.loc` to subset the dataset using the previous value\n",
        " 6. Find the states within the third quartile for 'Confirmed' cases\n",
        " "
      ]
    },
    {
      "cell_type": "markdown",
      "metadata": {
        "id": "vj_c3kRIOsBn",
        "colab_type": "text"
      },
      "source": [
        "## 1. Importing the Pandas Module"
      ]
    },
    {
      "cell_type": "code",
      "metadata": {
        "id": "khKzNfUExIk2",
        "colab_type": "code",
        "colab": {}
      },
      "source": [
        "import pandas as pd\n",
        "import numpy as np"
      ],
      "execution_count": null,
      "outputs": []
    },
    {
      "cell_type": "markdown",
      "metadata": {
        "id": "Z3cqRrz8O0_n",
        "colab_type": "text"
      },
      "source": [
        "## 2. Loading the DataFrame\n",
        "\n",
        "Use the `pd.read_csv()` command with the provided url\n",
        "\n",
        "Remember to save the result into a variable (normally `df`)"
      ]
    },
    {
      "cell_type": "code",
      "metadata": {
        "id": "chr2npL2j3Zg",
        "colab_type": "code",
        "colab": {}
      },
      "source": [
        "# 'https://raw.githubusercontent.com/CSSEGISandData/COVID-19/master/csse_covid_19_data/csse_covid_19_daily_reports_us/09-13-2020.csv'"
      ],
      "execution_count": null,
      "outputs": []
    },
    {
      "cell_type": "markdown",
      "metadata": {
        "id": "s-siG_ZuSc36",
        "colab_type": "text"
      },
      "source": [
        "### Print the dimensions of the DataFrame using `.shape`"
      ]
    },
    {
      "cell_type": "code",
      "metadata": {
        "id": "fDKX6dzaSjmy",
        "colab_type": "code",
        "colab": {}
      },
      "source": [
        "df.shape"
      ],
      "execution_count": null,
      "outputs": []
    },
    {
      "cell_type": "markdown",
      "metadata": {
        "id": "WhM8mNUEPln3",
        "colab_type": "text"
      },
      "source": [
        "## 3. Cleaning the DataFrame\n",
        "\n",
        "### Setting the correct dtypes\n",
        "Start by viewing the first 5 rows of the `df`. (`.head()`)\n",
        "\n",
        "Look to see if there are any variables that look like their types are incorrect (FIPS is one)\n",
        "\n",
        "Then print the types for each column (`df.dtypes`).\n",
        "- 'object' generally implies a string\n",
        "- Look for columns that might need to be changed\n",
        "\n",
        "Changes:\n",
        "- Convert any columns you identified in the previous step\n",
        "- convert 'Last_Update' to a date_time type\n",
        "  - `df['Last_Update'].astype('datetime64')`\n",
        "- remember to replace the existing column with the new columns\n"
      ]
    },
    {
      "cell_type": "code",
      "metadata": {
        "id": "wVhiXOH9RlUJ",
        "colab_type": "code",
        "colab": {}
      },
      "source": [
        ""
      ],
      "execution_count": null,
      "outputs": []
    },
    {
      "cell_type": "markdown",
      "metadata": {
        "id": "HDHod7n9R_pD",
        "colab_type": "text"
      },
      "source": [
        "### Drop any columns that only have null values\n",
        "\n",
        "Use the shape of the df to determine which columns might fit this criteria\n",
        "\n",
        "`df.isnull().sum()`"
      ]
    },
    {
      "cell_type": "code",
      "metadata": {
        "id": "cwOpGT4ZSJw_",
        "colab_type": "code",
        "colab": {}
      },
      "source": [
        ""
      ],
      "execution_count": null,
      "outputs": []
    },
    {
      "cell_type": "markdown",
      "metadata": {
        "id": "UzfZ99muTLCt",
        "colab_type": "text"
      },
      "source": [
        "Set the index to the `'Province_State'` column.\n",
        "\n",
        "First make sure that each state appears only once by using the `.value_counts()` function on the column"
      ]
    },
    {
      "cell_type": "markdown",
      "metadata": {
        "id": "qhPRXAtfRlzc",
        "colab_type": "text"
      },
      "source": [
        "## 4. Run some simple operations\n",
        " 1. Extract a column from the DataFrame (`[ ]` or `.loc[]`)\n"
      ]
    },
    {
      "cell_type": "code",
      "metadata": {
        "id": "dSkgGXgTQfWu",
        "colab_type": "code",
        "colab": {}
      },
      "source": [
        ""
      ],
      "execution_count": null,
      "outputs": []
    },
    {
      "cell_type": "markdown",
      "metadata": {
        "id": "FFULUjsyRvuu",
        "colab_type": "text"
      },
      "source": [
        " 2. Extract a row from the DataFrame (`.loc[]` and `.iloc[]`)\n"
      ]
    },
    {
      "cell_type": "code",
      "metadata": {
        "id": "Z3mMl43IRxkT",
        "colab_type": "code",
        "colab": {}
      },
      "source": [
        ""
      ],
      "execution_count": null,
      "outputs": []
    },
    {
      "cell_type": "markdown",
      "metadata": {
        "id": "wtUNR5fhRyQy",
        "colab_type": "text"
      },
      "source": [
        " 3. Subset the DataFrame using several rows / columns (`.loc[]`)\n"
      ]
    },
    {
      "cell_type": "code",
      "metadata": {
        "id": "yAhJDaDnR0Ed",
        "colab_type": "code",
        "colab": {}
      },
      "source": [
        ""
      ],
      "execution_count": null,
      "outputs": []
    },
    {
      "cell_type": "markdown",
      "metadata": {
        "id": "vh-b-4OKR0fB",
        "colab_type": "text"
      },
      "source": [
        " 4. Find the State with the most recoveries\n",
        "    1. Find the row with the max (`.max()`)\n",
        "    2. Use `.loc` to extract that row\n"
      ]
    },
    {
      "cell_type": "code",
      "metadata": {
        "id": "WJsAPuGVR2Hm",
        "colab_type": "code",
        "colab": {}
      },
      "source": [
        ""
      ],
      "execution_count": null,
      "outputs": []
    },
    {
      "cell_type": "markdown",
      "metadata": {
        "id": "YsWKLsNDR3ST",
        "colab_type": "text"
      },
      "source": [
        " 5. Find the states within the first quartile for 'Active' cases\n",
        "    1. Use `.quartile()` to find the first quartile range\n",
        "    2. Use `.loc` to subset the dataset using the previous value\n",
        " "
      ]
    },
    {
      "cell_type": "code",
      "metadata": {
        "id": "MRRBqLZiR6hC",
        "colab_type": "code",
        "colab": {}
      },
      "source": [
        ""
      ],
      "execution_count": null,
      "outputs": []
    },
    {
      "cell_type": "markdown",
      "metadata": {
        "id": "b-FXlZSYR4-l",
        "colab_type": "text"
      },
      "source": [
        "6. Find the states within the third quartile for 'Confirmed' cases\n",
        "\n",
        "This step will require two filters (boolean expressions)"
      ]
    },
    {
      "cell_type": "code",
      "metadata": {
        "id": "fSss8UycR68d",
        "colab_type": "code",
        "colab": {}
      },
      "source": [
        ""
      ],
      "execution_count": null,
      "outputs": []
    },
    {
      "cell_type": "code",
      "metadata": {
        "id": "IjnNtvLQTQhZ",
        "colab_type": "code",
        "colab": {}
      },
      "source": [
        ""
      ],
      "execution_count": null,
      "outputs": []
    }
  ]
}