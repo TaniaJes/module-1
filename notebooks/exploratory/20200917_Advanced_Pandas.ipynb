{
  "nbformat": 4,
  "nbformat_minor": 0,
  "metadata": {
    "colab": {
      "name": "09172020_Advanced_Pandas.ipynb",
      "provenance": [],
      "private_outputs": true
    },
    "kernelspec": {
      "name": "python3",
      "display_name": "Python 3"
    }
  },
  "cells": [
    {
      "cell_type": "markdown",
      "metadata": {
        "id": "MtxsKR8IqJ_D",
        "colab_type": "text"
      },
      "source": [
        "# Pandas Worked Example 09 / 17 / 2020\n",
        "\n",
        "We start by importing the packages we will be using:\n",
        "- Matplotlib - Creating simple line plots\n",
        "- Seaborn - Generating statistical plots\n",
        "- Numpy in case we need to set any dtypes\n",
        "- Pandas for working with the data"
      ]
    },
    {
      "cell_type": "code",
      "metadata": {
        "id": "v1rfn7K4R7MZ",
        "colab_type": "code",
        "colab": {}
      },
      "source": [
        "import matplotlib.pyplot as plt\n",
        "import numpy as np\n",
        "import pandas as pd\n",
        "import seaborn as sns\n"
      ],
      "execution_count": null,
      "outputs": []
    },
    {
      "cell_type": "markdown",
      "metadata": {
        "id": "iRX92HjeqmWr",
        "colab_type": "text"
      },
      "source": [
        "Now we read in our dataset (JHU COVID Timeseries data for Confirmed cases in the US). The url will always load will always be the most uptodate version. \n",
        "\n",
        "We now should do any data cleaning we want to do in the same cell.\n",
        "- This will ensure that we don't run into any errors by reruning cells that set indexes etc.\n",
        "- Drop any columns that have no data: `df.isnull().sum().sort_values()`\n",
        "  - to drop if there are columns: `df = df.drop(columns=['col1', 'col2'])`\n",
        "- Create a long version of the data : `df.melt(id_vars=index_cols, var_name='Date', value_name='Count')`\n",
        "  - Set the dtype for Date: `df_l['Date'] = pd.to_datetime(df_l['Date'])`\n",
        "- Set the index: `.set_index()`\n",
        "\n",
        " "
      ]
    },
    {
      "cell_type": "code",
      "metadata": {
        "id": "Xbe-RbgCSRo5",
        "colab_type": "code",
        "colab": {}
      },
      "source": [
        "url = 'https://raw.githubusercontent.com/CSSEGISandData/COVID-19/master/csse_covid_19_data/csse_covid_19_time_series/time_series_covid19_confirmed_US.csv'\n",
        "\n",
        "index_cols = [\"UID\", \"iso2\", \"iso3\", \"code3\", \"FIPS\", \"Admin2\", \"Province_State\", \"Country_Region\", \"Lat\", \"Long_\", \"Combined_Key\"]\n",
        "\n",
        "df = pd.read_csv(url)\n",
        "df.head()"
      ],
      "execution_count": null,
      "outputs": []
    },
    {
      "cell_type": "markdown",
      "metadata": {
        "id": "AIwrXpnqzT-E",
        "colab_type": "text"
      },
      "source": [
        "# Working with the wide format data\n",
        "\n",
        "Next we should look at what our DataFrame is telling us.\n",
        "\n",
        "What columns do we have available?\n",
        "What does each row represent?\n",
        "\n",
        "Steps:\n",
        "- Plot all the data\n",
        "  - As a line plot\n",
        "  - As a heatmap\n",
        "    - Use these plots to find our next question\n",
        "\n",
        "- Considerations:\n",
        "  - Should we start at a fine granular level (individual cities) or at a higher level (States)\n",
        "  - Should we transform the data at all?\n",
        "    - Normalize, Standardise, Log Transform "
      ]
    },
    {
      "cell_type": "code",
      "metadata": {
        "id": "0JGGeTvBUDpo",
        "colab_type": "code",
        "colab": {}
      },
      "source": [
        ""
      ],
      "execution_count": null,
      "outputs": []
    },
    {
      "cell_type": "markdown",
      "metadata": {
        "id": "jyJ0IO6Bv8hG",
        "colab_type": "text"
      },
      "source": [
        "# Working with the long format data\n",
        "\n",
        "One of the limiting factors when using the wide format data is that we cannot look at date ranges\n",
        "\n",
        "- Filtering using the Date:\n",
        "  - `date_filter = ('2020-03-01' <= df_l['Date']) & (df_l['Date'] <= '2020-03-31')`\n"
      ]
    },
    {
      "cell_type": "code",
      "metadata": {
        "id": "WcFsgo4dusOO",
        "colab_type": "code",
        "colab": {}
      },
      "source": [
        ""
      ],
      "execution_count": null,
      "outputs": []
    }
  ]
}