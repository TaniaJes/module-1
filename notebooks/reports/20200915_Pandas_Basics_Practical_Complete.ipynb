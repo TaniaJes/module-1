{
  "nbformat": 4,
  "nbformat_minor": 0,
  "metadata": {
    "colab": {
      "name": "Complete_Pandas_Basics_Practical_09152020.ipynb",
      "provenance": [],
      "private_outputs": true,
      "collapsed_sections": []
    },
    "kernelspec": {
      "name": "python3",
      "display_name": "Python 3"
    }
  },
  "cells": [
    {
      "cell_type": "markdown",
      "metadata": {
        "id": "FikfX_s7KehK",
        "colab_type": "text"
      },
      "source": [
        "# Pandas Basics Practical (09 / 15 / 2020)\n",
        "\n",
        "Steps:\n",
        "1. Import numpy and pandas\n",
        "2. Load the DataFrame (`pd.read_csv()`)\n",
        "  - print the dimensions of the df `df.shape`\n",
        "3. Clean the DataFrame\n",
        "  - Set the dtype for columns (`.astype()`)\n",
        "    - Numeric Types\n",
        "    - Date Times\n",
        "  - Drop columns that only have null values (`.isnull()`)\n",
        "  - Set the index\n",
        "    - Check whether the 'Province_State' is unique (`.values_counts()`)\n",
        "    - If so, use this column as the index (`.set_index()`)\n",
        "4. Run some simple operations\n",
        " 1. Extract a column from the DataFrame (`[ ]` or `.loc[]`)\n",
        " 2. Extract a row from the DataFrame (`.loc[]` and `.iloc[]`)\n",
        " 3. Subset the DataFrame using several rows / columns (`.loc[]`)\n",
        " 4. Find the State with the most recoveries\n",
        "    1. Find the row with the max (`.max()`)\n",
        "    2. Use `.loc` to extract that row\n",
        " 5. Find the states within the first quartile for 'Active' cases\n",
        "    1. Use `.quartile()` to find the first quartile range\n",
        "    2. Use `.loc` to subset the dataset using the previous value\n",
        " 6. Find the states within the third quartile for 'Confirmed' cases\n",
        " "
      ]
    },
    {
      "cell_type": "markdown",
      "metadata": {
        "id": "vj_c3kRIOsBn",
        "colab_type": "text"
      },
      "source": [
        "## 1. Importing the Pandas Module"
      ]
    },
    {
      "cell_type": "code",
      "metadata": {
        "id": "khKzNfUExIk2",
        "colab_type": "code",
        "colab": {}
      },
      "source": [
        "import pandas as pd\n",
        "import numpy as np"
      ],
      "execution_count": null,
      "outputs": []
    },
    {
      "cell_type": "markdown",
      "metadata": {
        "id": "Z3cqRrz8O0_n",
        "colab_type": "text"
      },
      "source": [
        "## 2. Loading the DataFrame\n",
        "\n",
        "Use the `pd.read_csv()` command with the provided url\n",
        "\n",
        "Remember to save the result into a variable (normally `df`)"
      ]
    },
    {
      "cell_type": "code",
      "metadata": {
        "id": "chr2npL2j3Zg",
        "colab_type": "code",
        "colab": {}
      },
      "source": [
        "# This URL will return the raw text contained in the csv file\n",
        "url = 'https://raw.githubusercontent.com/CSSEGISandData/COVID-19/master/csse_covid_19_data/csse_covid_19_daily_reports_us/09-13-2020.csv'\n",
        "# Pandas will convert the raw text into a csv (This file is comma delimited so we do not need to set a sep)\n",
        "df = pd.read_csv(url)\n",
        "# Output the first 5 lines in the file\n",
        "df.head()\n"
      ],
      "execution_count": null,
      "outputs": []
    },
    {
      "cell_type": "markdown",
      "metadata": {
        "id": "s-siG_ZuSc36",
        "colab_type": "text"
      },
      "source": [
        "### Print the dimensions of the DataFrame using `.shape`"
      ]
    },
    {
      "cell_type": "code",
      "metadata": {
        "id": "fDKX6dzaSjmy",
        "colab_type": "code",
        "colab": {}
      },
      "source": [
        "# Output the dimensions of the dataframe\n",
        "df.shape"
      ],
      "execution_count": null,
      "outputs": []
    },
    {
      "cell_type": "markdown",
      "metadata": {
        "id": "WhM8mNUEPln3",
        "colab_type": "text"
      },
      "source": [
        "## 3. Cleaning the DataFrame\n",
        "\n",
        "### Setting the correct dtypes\n",
        "Start by viewing the first 5 rows of the `df`. (`.head()`)\n",
        "\n",
        "Look to see if there are any variables that look like their types are incorrect (FIPS is one)\n",
        "\n",
        "Then print the types for each column (`df.dtypes`).\n",
        "- 'object' generally implies a string\n",
        "- Look for columns that might need to be changed\n",
        "\n",
        "Changes:\n",
        "- Convert any columns you identified in the previous step\n",
        "- convert 'Last_Update' to a date_time type\n",
        "  - `df['Last_Update'].astype('datetime64')`\n",
        "- remember to replace the existing column with the new columns\n"
      ]
    },
    {
      "cell_type": "code",
      "metadata": {
        "id": "wVhiXOH9RlUJ",
        "colab_type": "code",
        "colab": {}
      },
      "source": [
        "# Output the first 5 rows of the dataframe\n",
        "df.head()"
      ],
      "execution_count": null,
      "outputs": []
    },
    {
      "cell_type": "code",
      "metadata": {
        "id": "zFeBxn7h9dPS",
        "colab_type": "code",
        "colab": {}
      },
      "source": [
        "# output the type used for each row in the dataframe\n",
        "df.dtypes"
      ],
      "execution_count": null,
      "outputs": []
    },
    {
      "cell_type": "code",
      "metadata": {
        "id": "FQloQc509xV1",
        "colab_type": "code",
        "colab": {}
      },
      "source": [
        "# Change the type of the 'Last_Update' series to 'datetime64 and then replace that series in the original dataframe\n",
        "df['Last_Update'] = df['Last_Update'].astype('datetime64')\n",
        "# Change the type of the 'FIPS' series to 'np.uint32 and then replace that series in the original dataframe\n",
        "df['FIPS'] = df['FIPS'].astype(np.uint32)\n",
        "df.dtypes"
      ],
      "execution_count": null,
      "outputs": []
    },
    {
      "cell_type": "markdown",
      "metadata": {
        "id": "HDHod7n9R_pD",
        "colab_type": "text"
      },
      "source": [
        "### Drop any columns that only have null values\n",
        "\n",
        "Use the shape of the df to determine which columns might fit this criteria\n",
        "\n",
        "`df.isnull().sum()`"
      ]
    },
    {
      "cell_type": "code",
      "metadata": {
        "id": "cwOpGT4ZSJw_",
        "colab_type": "code",
        "colab": {}
      },
      "source": [
        "# isnull() will return True or False for each value in the dataframe\n",
        "# sum will sum the True values down each column and return the total\n",
        "df.isnull().sum()"
      ],
      "execution_count": null,
      "outputs": []
    },
    {
      "cell_type": "code",
      "metadata": {
        "id": "7wOpnXYS-wwg",
        "colab_type": "code",
        "colab": {}
      },
      "source": [
        "# From the previous step we can see that these columns only have null values\n",
        "# so we drop them from the dataframe\n",
        "df = df.drop(columns=[\"People_Hospitalized\", \"Hospitalization_Rate\"])"
      ],
      "execution_count": null,
      "outputs": []
    },
    {
      "cell_type": "markdown",
      "metadata": {
        "id": "UzfZ99muTLCt",
        "colab_type": "text"
      },
      "source": [
        "Set the index to the `'Province_State'` column.\n",
        "\n",
        "First make sure that each state appears only once by using the `.value_counts()` function on the column"
      ]
    },
    {
      "cell_type": "code",
      "metadata": {
        "id": "o1y2bs_R_TP-",
        "colab_type": "code",
        "colab": {}
      },
      "source": [
        "# .value_counts will count the number of occurances for each value in the series\n",
        "df[\"Province_State\"].value_counts()"
      ],
      "execution_count": null,
      "outputs": []
    },
    {
      "cell_type": "code",
      "metadata": {
        "id": "zSDA0Vj5_g4_",
        "colab_type": "code",
        "colab": {}
      },
      "source": [
        "# This will set the index to the specified column\n",
        "# will result in an error if this is run twice or there is a typo\n",
        "df = df.set_index(\"Province_State\")"
      ],
      "execution_count": null,
      "outputs": []
    },
    {
      "cell_type": "code",
      "metadata": {
        "id": "hQM9_Q6O_7Jv",
        "colab_type": "code",
        "colab": {}
      },
      "source": [
        "# ouput the first 5 rows of the dataframe\n",
        "df.head()"
      ],
      "execution_count": null,
      "outputs": []
    },
    {
      "cell_type": "markdown",
      "metadata": {
        "id": "qhPRXAtfRlzc",
        "colab_type": "text"
      },
      "source": [
        "## 4. Run some simple operations\n",
        " 1. Extract a column from the DataFrame (`[ ]` or `.loc[]`)\n"
      ]
    },
    {
      "cell_type": "code",
      "metadata": {
        "id": "dSkgGXgTQfWu",
        "colab_type": "code",
        "colab": {}
      },
      "source": [
        "# Output the first 5 values from the 'Lat' series\n",
        "df[\"Lat\"].head()"
      ],
      "execution_count": null,
      "outputs": []
    },
    {
      "cell_type": "markdown",
      "metadata": {
        "id": "FFULUjsyRvuu",
        "colab_type": "text"
      },
      "source": [
        " 2. Extract a row from the DataFrame (`.loc[]` and `.iloc[]`)\n"
      ]
    },
    {
      "cell_type": "code",
      "metadata": {
        "id": "Z3mMl43IRxkT",
        "colab_type": "code",
        "colab": {}
      },
      "source": [
        "# Output the 26th row (zero based indexing) of the dataframe \n",
        "df.iloc[25]"
      ],
      "execution_count": null,
      "outputs": []
    },
    {
      "cell_type": "code",
      "metadata": {
        "id": "0gIOpTj3Ap8b",
        "colab_type": "code",
        "colab": {}
      },
      "source": [
        "# Use the index column we set earlier to extract the row for Massachusetts\n",
        "df.loc[\"Massachusetts\"]"
      ],
      "execution_count": null,
      "outputs": []
    },
    {
      "cell_type": "markdown",
      "metadata": {
        "id": "wtUNR5fhRyQy",
        "colab_type": "text"
      },
      "source": [
        " 3. Subset the DataFrame using several rows / columns (`.loc[]`)\n"
      ]
    },
    {
      "cell_type": "code",
      "metadata": {
        "id": "yAhJDaDnR0Ed",
        "colab_type": "code",
        "colab": {}
      },
      "source": [
        "# Extract the Lat and Long_ columns into a new DataFrame, then output the first 5 rows\n",
        "df[[\"Lat\", \"Long_\"]].head()"
      ],
      "execution_count": null,
      "outputs": []
    },
    {
      "cell_type": "code",
      "metadata": {
        "id": "HbBxxayAA87R",
        "colab_type": "code",
        "colab": {}
      },
      "source": [
        "# Output rows with indexes 0, 1 and 2\n",
        "df.iloc[[0, 1, 2]]"
      ],
      "execution_count": null,
      "outputs": []
    },
    {
      "cell_type": "markdown",
      "metadata": {
        "id": "vh-b-4OKR0fB",
        "colab_type": "text"
      },
      "source": [
        " 4. Find the State with the most recoveries\n",
        "    1. Find the row with the max (`.max()`)\n",
        "    2. Use `.loc` to extract that row\n"
      ]
    },
    {
      "cell_type": "code",
      "metadata": {
        "id": "WJsAPuGVR2Hm",
        "colab_type": "code",
        "colab": {}
      },
      "source": [
        "# Find the maximum value in the 'Recovered' Column\n",
        "df[\"Recovered\"].max()"
      ],
      "execution_count": null,
      "outputs": []
    },
    {
      "cell_type": "code",
      "metadata": {
        "id": "eh0hQVIYBU_p",
        "colab_type": "code",
        "colab": {}
      },
      "source": [
        "# df[\"Recovered\"] == df[\"Recovered\"].max()\n",
        "#    This will return True for the row which has the max value and False for all others\n",
        "# df.loc[expression]\n",
        "#    Will use the expression to select rows from the DataFrame\n",
        "df.loc[df[\"Recovered\"] == df[\"Recovered\"].max()]"
      ],
      "execution_count": null,
      "outputs": []
    },
    {
      "cell_type": "markdown",
      "metadata": {
        "id": "YsWKLsNDR3ST",
        "colab_type": "text"
      },
      "source": [
        " 5. Find the states within the first quartile for 'Active' cases\n",
        "    1. Use `.quartile()` to find the first quartile range\n",
        "    2. Use `.loc` to subset the dataset using the previous value\n",
        " "
      ]
    },
    {
      "cell_type": "code",
      "metadata": {
        "id": "MRRBqLZiR6hC",
        "colab_type": "code",
        "colab": {}
      },
      "source": [
        "# Find the value for the first quartile range\n",
        "q1 = df[\"Active\"].quantile(0.25)\n",
        "\n",
        "# Extract all rows that fall within the first quartile'Active'\n",
        "df.loc[df[\"Active\"] < q1]"
      ],
      "execution_count": null,
      "outputs": []
    },
    {
      "cell_type": "markdown",
      "metadata": {
        "id": "b-FXlZSYR4-l",
        "colab_type": "text"
      },
      "source": [
        "6. Find the states within the third quartile for 'Confirmed' cases\n",
        "\n",
        "This step will require two filters (boolean expressions)"
      ]
    },
    {
      "cell_type": "code",
      "metadata": {
        "id": "fSss8UycR68d",
        "colab_type": "code",
        "colab": {}
      },
      "source": [
        ""
      ],
      "execution_count": null,
      "outputs": []
    },
    {
      "cell_type": "code",
      "metadata": {
        "id": "IjnNtvLQTQhZ",
        "colab_type": "code",
        "colab": {}
      },
      "source": [
        ""
      ],
      "execution_count": null,
      "outputs": []
    }
  ]
}