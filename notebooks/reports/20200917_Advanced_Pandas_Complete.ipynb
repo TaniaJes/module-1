{
  "nbformat": 4,
  "nbformat_minor": 0,
  "metadata": {
    "colab": {
      "name": "Complete_09172020_Advanced_Pandas.ipynb",
      "provenance": [],
      "private_outputs": true,
      "collapsed_sections": []
    },
    "kernelspec": {
      "name": "python3",
      "display_name": "Python 3"
    }
  },
  "cells": [
    {
      "cell_type": "markdown",
      "metadata": {
        "id": "MtxsKR8IqJ_D",
        "colab_type": "text"
      },
      "source": [
        "# Pandas Worked Example 09 / 17 / 2020\n",
        "\n",
        "We start by importing the packages we will be using:\n",
        "- Matplotlib - Creating simple line plots\n",
        "- Seaborn - Generating statistical plots\n",
        "- Numpy in case we need to set any dtypes\n",
        "- Pandas for working with the data"
      ]
    },
    {
      "cell_type": "code",
      "metadata": {
        "id": "v1rfn7K4R7MZ",
        "colab_type": "code",
        "colab": {}
      },
      "source": [
        "import matplotlib.pyplot as plt\n",
        "import numpy as np\n",
        "import pandas as pd\n",
        "import seaborn as sns\n"
      ],
      "execution_count": null,
      "outputs": []
    },
    {
      "cell_type": "markdown",
      "metadata": {
        "id": "iRX92HjeqmWr",
        "colab_type": "text"
      },
      "source": [
        "Now we read in our dataset (JHU COVID Timeseries data for Confirmed cases in the US). The url will always load will always be the most uptodate version. \n",
        "\n",
        "We now should do any data cleaning we want to do in the same cell.\n",
        "- This will ensure that we don't run into any errors by reruning cells that set indexes etc.\n",
        "- Drop any columns that have no data: `df.isnull().sum().sort_values()`\n",
        "  - to drop if there are columns: `df = df.drop(columns=['col1', 'col2'])`\n",
        "- Create a long version of the data : `df.melt(id_vars=index_cols, var_name='Date', value_name='Count')`\n",
        "  - Set the dtype for Date: `df_l['Date'] = pd.to_datetime(df_l['Date'])`\n",
        "- Set the index: `.set_index()`\n",
        "\n",
        " "
      ]
    },
    {
      "cell_type": "code",
      "metadata": {
        "id": "Xbe-RbgCSRo5",
        "colab_type": "code",
        "colab": {}
      },
      "source": [
        "url = 'https://raw.githubusercontent.com/CSSEGISandData/COVID-19/master/csse_covid_19_data/csse_covid_19_time_series/time_series_covid19_confirmed_US.csv'\n",
        "\n",
        "index_cols = [\"UID\", \"iso2\", \"iso3\", \"code3\", \"FIPS\", \"Admin2\", \"Province_State\", \"Country_Region\", \"Lat\", \"Long_\", \"Combined_Key\"]\n",
        "\n",
        "# Read the url into a dataframe\n",
        "df = pd.read_csv(url)\n",
        "# Convert the wide format data into a long format dataframe\n",
        "df_l = df.melt(id_vars=index_cols, var_name='Date', value_name='Count')\n",
        "# Set the date columns as a datetime to make looking at date ranges possible\n",
        "df_l['Date'] = pd.to_datetime(df_l['Date'])\n",
        "# Set all non - count columns to be in the index\n",
        "df = df.set_index(index_cols)\n",
        "# Output the first 5 rows of the dataframe\n",
        "df.head()"
      ],
      "execution_count": null,
      "outputs": []
    },
    {
      "cell_type": "markdown",
      "metadata": {
        "id": "AIwrXpnqzT-E",
        "colab_type": "text"
      },
      "source": [
        "# Working with the wide format data\n",
        "\n",
        "Next we should look at what our DataFrame is telling us.\n",
        "\n",
        "What columns do we have available?\n",
        "What does each row represent?\n",
        "\n",
        "Steps:\n",
        "- Plot all the data\n",
        "  - As a line plot\n",
        "  - As a heatmap\n",
        "    - Use these plots to find our next question\n",
        "\n",
        "- Considerations:\n",
        "  - Should we start at a fine granular level (individual cities) or at a higher level (States)\n",
        "  - Should we transform the data at all?\n",
        "    - Normalize, Standardise, Log Transform "
      ]
    },
    {
      "cell_type": "code",
      "metadata": {
        "id": "0JGGeTvBUDpo",
        "colab_type": "code",
        "colab": {}
      },
      "source": [
        "# We need to use .index.get_level_values as 'Admin2' is now a index column\n",
        "  # Find all cities called \"Baldwin\" in the DataFrame\n",
        "f1 = df.index.get_level_values(\"Admin2\") == \"Baldwin\"\n",
        "# We could also filter by the state if we wanted to\n",
        "# f2 = df.index.get_level_values(\"Province_State\") == \"Alabama\"\n",
        "\n",
        "# Apply our filters to the rows to subset the DataFrame\n",
        "tmp = df.loc[f1]\n",
        "\n",
        "# Set up the dimensions of the figure to make it larger\n",
        "  # figsize=(width, height) (in inches)\n",
        "  # dpi=int; The numner of dots per inch in the figure\n",
        "fig = plt.figure(figsize=(8, 2), dpi=300)\n",
        "\n",
        "# Add the first \"Baldwin\" data to the plot\n",
        "_ = plt.plot(tmp.to_numpy().T[:,0])\n",
        "# Add the second \"Baldwin\" cities data to the plot\n",
        "_ = plt.plot(tmp.to_numpy().T[:,1])\n",
        "# plt.show() will display the plot and then reset the figure for the next plot\n",
        "plt.show()"
      ],
      "execution_count": null,
      "outputs": []
    },
    {
      "cell_type": "code",
      "metadata": {
        "id": "5WRebaOrSCAZ",
        "colab_type": "code",
        "colab": {}
      },
      "source": [
        "# Set our figure size\n",
        "fig = plt.figure(figsize=(8, 2), dpi=300)\n",
        "\n",
        "# Draw a line plot\n",
        "_ = plt.plot(\n",
        "    # Use all the data, the original data has a town per row, plot() wants a town per column so we transpose\n",
        "    df.to_numpy().T,\n",
        "    # Set the color of the lines\n",
        "    c='black',\n",
        "    # Set the thickness of the lines\n",
        "    lw=0.2,\n",
        "    # Set how seethrough the lines are. 0 transparent, 1 opaque\n",
        "    alpha=0.2\n",
        "    )\n"
      ],
      "execution_count": null,
      "outputs": []
    },
    {
      "cell_type": "code",
      "metadata": {
        "id": "IDlQeDLhS-rU",
        "colab_type": "code",
        "colab": {}
      },
      "source": [
        "# Finding the city with the highest confirmed cases\n",
        "# Take the last value, and find the row that contains it\n",
        "df.loc[df[\"9/16/20\"] == df[\"9/16/20\"].max()]"
      ],
      "execution_count": null,
      "outputs": []
    },
    {
      "cell_type": "code",
      "metadata": {
        "id": "F7QLAmHxTRSm",
        "colab_type": "code",
        "colab": {}
      },
      "source": [
        "# A heatmap requires a matrix of values as input\n",
        "  # As we set all non value columns to be the index, we can just pass the dataframe to the heatmap method\n",
        "sns.heatmap(df)"
      ],
      "execution_count": null,
      "outputs": []
    },
    {
      "cell_type": "markdown",
      "metadata": {
        "id": "jyJ0IO6Bv8hG",
        "colab_type": "text"
      },
      "source": [
        "# Working with the long format data\n",
        "\n",
        "One of the limiting factors when using the wide format data is that we cannot look at date ranges\n",
        "\n",
        "- Filtering using the Date:\n",
        "  - `date_filter = ('2020-03-01' <= df_l['Date']) & (df_l['Date'] <= '2020-03-31')`\n"
      ]
    },
    {
      "cell_type": "code",
      "metadata": {
        "id": "WcFsgo4dusOO",
        "colab_type": "code",
        "colab": {}
      },
      "source": [
        "# Once a column is a datetime type you can use date strings to set ranges.\n",
        "# Timedeltas is another option\n",
        "#  You would use a timedelta to see the progression one month after the first case\n",
        "#     - I would answer a question like this by:\n",
        "#       1.  Find the date of first occurance for each town using groupby and min()\n",
        "#       2.  Use that date in conjunction with a 1 month timedelta to set the range \n",
        "\n",
        "# I added .copy here to remove the error we got in the next cell\n",
        "tmp = df_l.copy().loc[('2020-03-01' <= df_l['Date']) & (df_l['Date'] <='2020-03-31')]\n",
        "\n",
        "tmp.head()"
      ],
      "execution_count": null,
      "outputs": []
    },
    {
      "cell_type": "code",
      "metadata": {
        "id": "_U6ObLSlUeNa",
        "colab_type": "code",
        "colab": {}
      },
      "source": [
        "# We use apply and numpys log function to log each count\n",
        "#   The log of 0 is undefinded, so we add one to each count to avoid this\n",
        "# The result is stored in a new column in tmp called 'logged'\n",
        "tmp['logged'] = tmp['Count'].apply(lambda x: np.log(x + 1))\n",
        "tmp.head()"
      ],
      "execution_count": null,
      "outputs": []
    },
    {
      "cell_type": "code",
      "metadata": {
        "id": "pUdBd2-yTqah",
        "colab_type": "code",
        "colab": {}
      },
      "source": [
        "# WE can set the figure size for seaborn plots as well using this command\n",
        "fig = plt.figure(figsize=(8, 2), dpi=300)\n",
        "# This generates a boxplot using the State on the x axis and the logged Count on the y axis\n",
        "_ = sns.boxplot(x='Province_State', y='logged', data=tmp)"
      ],
      "execution_count": null,
      "outputs": []
    },
    {
      "cell_type": "code",
      "metadata": {
        "id": "bWF4AQXKaMv4",
        "colab_type": "code",
        "colab": {}
      },
      "source": [
        ""
      ],
      "execution_count": null,
      "outputs": []
    }
  ]
}